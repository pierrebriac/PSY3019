{
 "cells": [
  {
   "cell_type": "markdown",
   "metadata": {},
   "source": [
    "<div class=\"alert alert-info\">\n",
    "\n",
    "# PSY 4016-G-H20\n",
    "# Cueillette et traitement des données en neurosciences cognitives\n",
    "## Chapitre 2: les structures de données, intro\n",
    "<p>\n",
    "<li> Structures de données:\n",
    "    <ul>\n",
    "        <li>la chaîne\n",
    "        <li>l'entier\n",
    "        <li>la flotte\n",
    "        <li>la liste\n",
    "        <li>le tuple\n",
    "        <li>le dictionnaire\n",
    "        <li>Pandas DataFrame\n",
    "        <li>Numpy</ul>\n",
    "\n",
    "<li> Les styles d'écriture de code python\n",
    "<li> Indexation des structures de données\n",
    "<li> Le Pseudo-code"
   ]
  },
  {
   "cell_type": "markdown",
   "metadata": {},
   "source": [
    "#### commandes pour l'installation dans le terminal:\n",
    "\n",
    "pip3 install pandas\n",
    "\n",
    "pip3 install numpy"
   ]
  },
  {
   "cell_type": "code",
   "execution_count": 8,
   "metadata": {},
   "outputs": [
    {
     "name": "stdout",
     "output_type": "stream",
     "text": [
      "pandas version is:  1.4.4\n",
      "numpy version is:  1.21.5\n"
     ]
    }
   ],
   "source": [
    "import pandas #as pd\n",
    "import numpy as np\n",
    "\n",
    "print('pandas version is: ', pandas.__version__)\n",
    "print('numpy version is: ', np.__version__)"
   ]
  },
  {
   "cell_type": "markdown",
   "metadata": {},
   "source": [
    "<div class=\"alert alert-info\">\n",
    "<h3>Les structures de données</h3>\n",
    "</div>"
   ]
  },
  {
   "cell_type": "markdown",
   "metadata": {},
   "source": [
    "<div class=\"alert alert-success\">\n",
    "<br>\n",
    "<li>Les chaînes de caractères (texte) en python sont entourés de guillemets simples ou de guillemets doubles.\n",
    "<li>les entiers sont des nombres\n",
    "<li>les flottantes sont des nombres avec une valeur après la virgule\n",
    "<li>la liste est une séquance de variables\n",
    "<li>le tuple est une séquance de variables NON modifiable\n",
    "<li>le dictionnaire est une structure avec de clés et de valeurs. Le dictionnaire N’EST pas une sequence\n",
    "<p><p>\n",
    "<li>les listes, tuples, dictionnaires, DataFrames sont hétérogènes et peuvent contenir:<ul>\n",
    "    <li> des chaînes de caractères (strings)\n",
    "    <li>des entiers\n",
    "    <li>des objets</ul>\n",
    "</div>"
   ]
  },
  {
   "cell_type": "markdown",
   "metadata": {},
   "source": [
    "<div class=\"alert alert-success\">\n",
    "\n",
    "### comment créer une structure de données :\n",
    "\n",
    "### chaîne:\n",
    "    str()\n",
    "    variable1 = str(\"variable\")\n",
    "\n",
    "### entiere:\n",
    "    int()\n",
    "    entiere1 = int(1)\n",
    "\n",
    "### flottante:\n",
    "    float()\n",
    "    flottante1 = float(1)\n",
    "\n",
    "### list - structure entre crochets:\n",
    "    list()\n",
    "    list1 = list()\n",
    "    list1 =[]\n",
    "\n",
    "### tuple - structure entre parenthèses:\n",
    "    tuple()\n",
    "    tuple1 = tuple()\n",
    "    tuple1 = ()\n",
    "\n",
    "### dictionnaire - structure entre accolades:\n",
    "    dict()\n",
    "    dictionnaire1 = dict()\n",
    "    dictionnaire1 = {}\n",
    "\n",
    "### pandas DataFrame:\n",
    "    pandas.DataFrame()\n",
    "    df1 = pandas.DataFrame()\n",
    "\n",
    "</div>"
   ]
  },
  {
   "cell_type": "markdown",
   "metadata": {},
   "source": [
    "<div class=\"alert alert-success\">\n",
    "    \n",
    "## commandes python\n",
    "    \n",
    "#### pour vérifier le type de variable, utilisez la commande :\n",
    "    \n",
    "    type()\n",
    "    \n",
    "#### pour vérifier le type de variable, utilisez la commande :\n",
    "    \n",
    "    len()\n",
    "</div>"
   ]
  },
  {
   "cell_type": "code",
   "execution_count": 9,
   "metadata": {},
   "outputs": [
    {
     "name": "stdout",
     "output_type": "stream",
     "text": [
      "bonjour\n"
     ]
    },
    {
     "data": {
      "text/plain": [
       "str"
      ]
     },
     "execution_count": 9,
     "metadata": {},
     "output_type": "execute_result"
    }
   ],
   "source": [
    "# créer une chaîne\n",
    "\n",
    "a = str(\"bonjour\") #Version 1\n",
    "a = \"bonjour\" #Version 2\n",
    "\n",
    "print(a)\n",
    "type(a)"
   ]
  },
  {
   "cell_type": "code",
   "execution_count": 10,
   "metadata": {},
   "outputs": [
    {
     "data": {
      "text/plain": [
       "7"
      ]
     },
     "execution_count": 10,
     "metadata": {},
     "output_type": "execute_result"
    }
   ],
   "source": [
    "len(a)"
   ]
  },
  {
   "cell_type": "code",
   "execution_count": 11,
   "metadata": {},
   "outputs": [
    {
     "name": "stdout",
     "output_type": "stream",
     "text": [
      "Lorem ipsum dolor sit amet,\n",
      "consectetur adipiscing elit,\n",
      "sed do eiusmod tempor incididunt\n",
      "ut labore et dolore magna aliqua.\n"
     ]
    }
   ],
   "source": [
    "# Vous pouvez affecter une chaîne multiligne \n",
    "# à une variable en utilisant trois guillemets:\n",
    "\n",
    "a = \"\"\"Lorem ipsum dolor sit amet,\n",
    "consectetur adipiscing elit,\n",
    "sed do eiusmod tempor incididunt\n",
    "ut labore et dolore magna aliqua.\"\"\"\n",
    "print(a)"
   ]
  },
  {
   "cell_type": "code",
   "execution_count": 12,
   "metadata": {},
   "outputs": [
    {
     "data": {
      "text/plain": [
       "123"
      ]
     },
     "execution_count": 12,
     "metadata": {},
     "output_type": "execute_result"
    }
   ],
   "source": [
    "len(a)"
   ]
  },
  {
   "cell_type": "code",
   "execution_count": 13,
   "metadata": {},
   "outputs": [
    {
     "name": "stdout",
     "output_type": "stream",
     "text": [
      "300\n"
     ]
    },
    {
     "data": {
      "text/plain": [
       "int"
      ]
     },
     "execution_count": 13,
     "metadata": {},
     "output_type": "execute_result"
    }
   ],
   "source": [
    "# créer une entier\n",
    "\n",
    "i = 300\n",
    "print(i)\n",
    "type(i)"
   ]
  },
  {
   "cell_type": "code",
   "execution_count": 14,
   "metadata": {},
   "outputs": [
    {
     "ename": "TypeError",
     "evalue": "object of type 'int' has no len()",
     "output_type": "error",
     "traceback": [
      "\u001b[0;31m---------------------------------------------------------------------------\u001b[0m",
      "\u001b[0;31mTypeError\u001b[0m                                 Traceback (most recent call last)",
      "\u001b[0;32m/var/folders/1t/m_ny6jj121304b52s3qrp6dm0000gn/T/ipykernel_95794/1459377155.py\u001b[0m in \u001b[0;36m<module>\u001b[0;34m\u001b[0m\n\u001b[1;32m      1\u001b[0m \u001b[0;31m# exception:\u001b[0m\u001b[0;34m\u001b[0m\u001b[0;34m\u001b[0m\u001b[0m\n\u001b[1;32m      2\u001b[0m \u001b[0;34m\u001b[0m\u001b[0m\n\u001b[0;32m----> 3\u001b[0;31m \u001b[0mlen\u001b[0m\u001b[0;34m(\u001b[0m\u001b[0mi\u001b[0m\u001b[0;34m)\u001b[0m\u001b[0;34m\u001b[0m\u001b[0;34m\u001b[0m\u001b[0m\n\u001b[0m",
      "\u001b[0;31mTypeError\u001b[0m: object of type 'int' has no len()"
     ]
    }
   ],
   "source": [
    "# exception:\n",
    "\n",
    "len(i)"
   ]
  },
  {
   "cell_type": "code",
   "execution_count": 15,
   "metadata": {},
   "outputs": [
    {
     "data": {
      "text/plain": [
       "3"
      ]
     },
     "execution_count": 15,
     "metadata": {},
     "output_type": "execute_result"
    }
   ],
   "source": [
    "# solution de contournement\n",
    "\n",
    "len(str(i))"
   ]
  },
  {
   "cell_type": "code",
   "execution_count": 16,
   "metadata": {},
   "outputs": [
    {
     "name": "stdout",
     "output_type": "stream",
     "text": [
      "1.0\n"
     ]
    },
    {
     "data": {
      "text/plain": [
       "float"
      ]
     },
     "execution_count": 16,
     "metadata": {},
     "output_type": "execute_result"
    }
   ],
   "source": [
    "# créer une flottante\n",
    "\n",
    "flottante1 = float(1)\n",
    "print(flottante1)\n",
    "type(flottante1)"
   ]
  },
  {
   "cell_type": "code",
   "execution_count": 17,
   "metadata": {},
   "outputs": [
    {
     "ename": "TypeError",
     "evalue": "object of type 'float' has no len()",
     "output_type": "error",
     "traceback": [
      "\u001b[0;31m---------------------------------------------------------------------------\u001b[0m",
      "\u001b[0;31mTypeError\u001b[0m                                 Traceback (most recent call last)",
      "\u001b[0;32m/var/folders/1t/m_ny6jj121304b52s3qrp6dm0000gn/T/ipykernel_95794/926902905.py\u001b[0m in \u001b[0;36m<module>\u001b[0;34m\u001b[0m\n\u001b[1;32m      1\u001b[0m \u001b[0;31m# exception:\u001b[0m\u001b[0;34m\u001b[0m\u001b[0;34m\u001b[0m\u001b[0m\n\u001b[1;32m      2\u001b[0m \u001b[0;34m\u001b[0m\u001b[0m\n\u001b[0;32m----> 3\u001b[0;31m \u001b[0mlen\u001b[0m\u001b[0;34m(\u001b[0m\u001b[0mflottante1\u001b[0m\u001b[0;34m)\u001b[0m\u001b[0;34m\u001b[0m\u001b[0;34m\u001b[0m\u001b[0m\n\u001b[0m",
      "\u001b[0;31mTypeError\u001b[0m: object of type 'float' has no len()"
     ]
    }
   ],
   "source": [
    "# exception:\n",
    "\n",
    "len(flottante1)"
   ]
  },
  {
   "cell_type": "code",
   "execution_count": 18,
   "metadata": {},
   "outputs": [
    {
     "data": {
      "text/plain": [
       "3"
      ]
     },
     "execution_count": 18,
     "metadata": {},
     "output_type": "execute_result"
    }
   ],
   "source": [
    "# solution de contournement\n",
    "\n",
    "len(str(flottante1))"
   ]
  },
  {
   "cell_type": "code",
   "execution_count": 19,
   "metadata": {},
   "outputs": [
    {
     "name": "stdout",
     "output_type": "stream",
     "text": [
      "montreal 4 .ca\n"
     ]
    }
   ],
   "source": [
    "# créer plusieurs variables:\n",
    "\n",
    "text3, c, text4 = 'montreal', 4, '.ca'\n",
    "print(text3, c, text4)"
   ]
  },
  {
   "cell_type": "code",
   "execution_count": 20,
   "metadata": {},
   "outputs": [
    {
     "name": "stdout",
     "output_type": "stream",
     "text": [
      "['text1', 'b', 'text2', 'text', [], ()]\n"
     ]
    },
    {
     "data": {
      "text/plain": [
       "list"
      ]
     },
     "execution_count": 20,
     "metadata": {},
     "output_type": "execute_result"
    }
   ],
   "source": [
    "# créer une liste\n",
    "\n",
    "ls1 = ['text1', 'b', 'text2', 'text', [], ()]\n",
    "\n",
    "print(ls1)\n",
    "type(ls1)"
   ]
  },
  {
   "cell_type": "code",
   "execution_count": 21,
   "metadata": {},
   "outputs": [
    {
     "data": {
      "text/plain": [
       "6"
      ]
     },
     "execution_count": 21,
     "metadata": {},
     "output_type": "execute_result"
    }
   ],
   "source": [
    "len(ls1)"
   ]
  },
  {
   "cell_type": "code",
   "execution_count": 22,
   "metadata": {},
   "outputs": [
    {
     "name": "stdout",
     "output_type": "stream",
     "text": [
      "('text1', 'b', 'text2', 'text')\n"
     ]
    },
    {
     "data": {
      "text/plain": [
       "tuple"
      ]
     },
     "execution_count": 22,
     "metadata": {},
     "output_type": "execute_result"
    }
   ],
   "source": [
    "# créer un tuple\n",
    "\n",
    "tup1 = ('text1', 'b', 'text2', 'text')\n",
    "print(tup1)\n",
    "type(tup1)"
   ]
  },
  {
   "cell_type": "code",
   "execution_count": 23,
   "metadata": {},
   "outputs": [
    {
     "name": "stdout",
     "output_type": "stream",
     "text": [
      "('test1', 'text3')\n"
     ]
    },
    {
     "data": {
      "text/plain": [
       "tuple"
      ]
     },
     "execution_count": 23,
     "metadata": {},
     "output_type": "execute_result"
    }
   ],
   "source": [
    "tup2 = 'test1', 'text3'\n",
    "print(tup2)\n",
    "type(tup2)"
   ]
  },
  {
   "cell_type": "code",
   "execution_count": 24,
   "metadata": {},
   "outputs": [
    {
     "data": {
      "text/plain": [
       "2"
      ]
     },
     "execution_count": 24,
     "metadata": {},
     "output_type": "execute_result"
    }
   ],
   "source": [
    "len(tup2)"
   ]
  },
  {
   "cell_type": "markdown",
   "metadata": {},
   "source": [
    "<div class=\"alert alert-warning\">\n",
    "\n",
    "<li>les listes et le tuples sont des structures 1D\n",
    "</div>"
   ]
  },
  {
   "cell_type": "markdown",
   "metadata": {},
   "source": [
    "<center><img src=\"img/numpy_1x3x1.png\"><center>"
   ]
  },
  {
   "cell_type": "code",
   "execution_count": 25,
   "metadata": {},
   "outputs": [
    {
     "name": "stdout",
     "output_type": "stream",
     "text": [
      "{'cle1': 'variable', 'cle2': [], 'cle3': [1, 2, 3], 'cle4': ('a', 'b')}\n"
     ]
    },
    {
     "data": {
      "text/plain": [
       "dict"
      ]
     },
     "execution_count": 25,
     "metadata": {},
     "output_type": "execute_result"
    }
   ],
   "source": [
    "# créer un dictionnaire\n",
    "\n",
    "d1 = {\n",
    "    'cle1':'variable',\n",
    "    'cle2':[],\n",
    "    'cle3': [1,2,3],\n",
    "    'cle4': ('a', 'b',)\n",
    "    }\n",
    "print(d1)\n",
    "type(d1)"
   ]
  },
  {
   "cell_type": "code",
   "execution_count": 26,
   "metadata": {},
   "outputs": [
    {
     "name": "stdout",
     "output_type": "stream",
     "text": [
      "a\n",
      "b\n",
      "c\n",
      "d\n"
     ]
    }
   ],
   "source": [
    "tup1 = ('abcd')\n",
    "for i in tup1:\n",
    "    print(i)"
   ]
  },
  {
   "cell_type": "code",
   "execution_count": 27,
   "metadata": {},
   "outputs": [
    {
     "name": "stdout",
     "output_type": "stream",
     "text": [
      "abcd\n"
     ]
    }
   ],
   "source": [
    "tup1 = ('abcd',)\n",
    "for i in tup1:\n",
    "    print(i)"
   ]
  },
  {
   "cell_type": "code",
   "execution_count": 28,
   "metadata": {},
   "outputs": [
    {
     "data": {
      "text/plain": [
       "4"
      ]
     },
     "execution_count": 28,
     "metadata": {},
     "output_type": "execute_result"
    }
   ],
   "source": [
    "len(d1)"
   ]
  },
  {
   "cell_type": "code",
   "execution_count": 29,
   "metadata": {},
   "outputs": [
    {
     "name": "stdout",
     "output_type": "stream",
     "text": [
      "Empty DataFrame\n",
      "Columns: []\n",
      "Index: []\n"
     ]
    },
    {
     "data": {
      "text/plain": [
       "pandas.core.frame.DataFrame"
      ]
     },
     "execution_count": 29,
     "metadata": {},
     "output_type": "execute_result"
    }
   ],
   "source": [
    "# créer un pandas DataFrame\n",
    "import pandas\n",
    "\n",
    "df = pandas.DataFrame()\n",
    "print(df)\n",
    "type(df)"
   ]
  },
  {
   "cell_type": "code",
   "execution_count": 30,
   "metadata": {},
   "outputs": [
    {
     "data": {
      "text/plain": [
       "0"
      ]
     },
     "execution_count": 30,
     "metadata": {},
     "output_type": "execute_result"
    }
   ],
   "source": [
    "len(df)"
   ]
  },
  {
   "cell_type": "markdown",
   "metadata": {},
   "source": [
    "<div class=\"alert alert-warning\">\n",
    "\n",
    "les pandas DataFrames peuvent être créés à partir de:\n",
    "<li> fichiers (csv, excel, json, etc.)\n",
    "<li>listes\n",
    "<li>dictionnaires\n",
    "    </div>"
   ]
  },
  {
   "cell_type": "code",
   "execution_count": 31,
   "metadata": {},
   "outputs": [
    {
     "name": "stdout",
     "output_type": "stream",
     "text": [
      "       0\n",
      "0  text1\n",
      "1      b\n",
      "2  text2\n",
      "3   text\n"
     ]
    }
   ],
   "source": [
    "# pandas dataframes du liste:\n",
    "\n",
    "ls1 = ['text1', 'b', 'text2', 'text']\n",
    "df_du_ls = pandas.DataFrame(ls1)\n",
    "\n",
    "print(df_du_ls)"
   ]
  },
  {
   "cell_type": "code",
   "execution_count": 32,
   "metadata": {},
   "outputs": [
    {
     "name": "stdout",
     "output_type": "stream",
     "text": [
      "   col_1 col_2\n",
      "0      3     a\n",
      "1      2     b\n",
      "2      1     c\n",
      "3      0     d\n"
     ]
    }
   ],
   "source": [
    "# pandas dataframes du dictionnaire:\n",
    "\n",
    "data = {'col_1': [3, 2, 1, 0],\n",
    "        'col_2': ['a', 'b', 'c', 'd']}\n",
    "\n",
    "df_d = pandas.DataFrame.from_dict(data) # Version 1\n",
    "print(df_d)"
   ]
  },
  {
   "cell_type": "code",
   "execution_count": 33,
   "metadata": {},
   "outputs": [
    {
     "name": "stdout",
     "output_type": "stream",
     "text": [
      "   col_1 col_2\n",
      "0      3     a\n",
      "1      2     b\n",
      "2      1     c\n",
      "3      0     d\n"
     ]
    }
   ],
   "source": [
    "df_dv2 = pandas.DataFrame(data) # Version 2\n",
    "print(df_dv2)"
   ]
  },
  {
   "cell_type": "code",
   "execution_count": 34,
   "metadata": {},
   "outputs": [
    {
     "data": {
      "text/plain": [
       "pandas.core.frame.DataFrame"
      ]
     },
     "execution_count": 34,
     "metadata": {},
     "output_type": "execute_result"
    }
   ],
   "source": [
    "type(df_d)"
   ]
  },
  {
   "cell_type": "code",
   "execution_count": 35,
   "metadata": {},
   "outputs": [
    {
     "data": {
      "text/html": [
       "<div>\n",
       "<style scoped>\n",
       "    .dataframe tbody tr th:only-of-type {\n",
       "        vertical-align: middle;\n",
       "    }\n",
       "\n",
       "    .dataframe tbody tr th {\n",
       "        vertical-align: top;\n",
       "    }\n",
       "\n",
       "    .dataframe thead th {\n",
       "        text-align: right;\n",
       "    }\n",
       "</style>\n",
       "<table border=\"1\" class=\"dataframe\">\n",
       "  <thead>\n",
       "    <tr style=\"text-align: right;\">\n",
       "      <th></th>\n",
       "      <th>col_1</th>\n",
       "      <th>col_2</th>\n",
       "    </tr>\n",
       "  </thead>\n",
       "  <tbody>\n",
       "    <tr>\n",
       "      <th>0</th>\n",
       "      <td>3</td>\n",
       "      <td>a</td>\n",
       "    </tr>\n",
       "    <tr>\n",
       "      <th>1</th>\n",
       "      <td>2</td>\n",
       "      <td>b</td>\n",
       "    </tr>\n",
       "    <tr>\n",
       "      <th>2</th>\n",
       "      <td>1</td>\n",
       "      <td>c</td>\n",
       "    </tr>\n",
       "    <tr>\n",
       "      <th>3</th>\n",
       "      <td>0</td>\n",
       "      <td>d</td>\n",
       "    </tr>\n",
       "  </tbody>\n",
       "</table>\n",
       "</div>"
      ],
      "text/plain": [
       "   col_1 col_2\n",
       "0      3     a\n",
       "1      2     b\n",
       "2      1     c\n",
       "3      0     d"
      ]
     },
     "execution_count": 35,
     "metadata": {},
     "output_type": "execute_result"
    }
   ],
   "source": [
    "# par défault les collones de la cadre de données correspond aux clés\n",
    "df_d"
   ]
  },
  {
   "cell_type": "code",
   "execution_count": 36,
   "metadata": {},
   "outputs": [
    {
     "data": {
      "text/html": [
       "<div>\n",
       "<style scoped>\n",
       "    .dataframe tbody tr th:only-of-type {\n",
       "        vertical-align: middle;\n",
       "    }\n",
       "\n",
       "    .dataframe tbody tr th {\n",
       "        vertical-align: top;\n",
       "    }\n",
       "\n",
       "    .dataframe thead th {\n",
       "        text-align: right;\n",
       "    }\n",
       "</style>\n",
       "<table border=\"1\" class=\"dataframe\">\n",
       "  <thead>\n",
       "    <tr style=\"text-align: right;\">\n",
       "      <th></th>\n",
       "      <th>0</th>\n",
       "      <th>1</th>\n",
       "      <th>2</th>\n",
       "      <th>3</th>\n",
       "    </tr>\n",
       "  </thead>\n",
       "  <tbody>\n",
       "    <tr>\n",
       "      <th>col_1</th>\n",
       "      <td>3</td>\n",
       "      <td>2</td>\n",
       "      <td>1</td>\n",
       "      <td>0</td>\n",
       "    </tr>\n",
       "    <tr>\n",
       "      <th>col_2</th>\n",
       "      <td>a</td>\n",
       "      <td>b</td>\n",
       "      <td>c</td>\n",
       "      <td>d</td>\n",
       "    </tr>\n",
       "  </tbody>\n",
       "</table>\n",
       "</div>"
      ],
      "text/plain": [
       "       0  1  2  3\n",
       "col_1  3  2  1  0\n",
       "col_2  a  b  c  d"
      ]
     },
     "execution_count": 36,
     "metadata": {},
     "output_type": "execute_result"
    }
   ],
   "source": [
    "# pour changer la structure, le paramètre \"orient\" peut être utilisé\n",
    "\n",
    "df_d = pandas.DataFrame.from_dict(data, orient = 'index')\n",
    "df_d"
   ]
  },
  {
   "cell_type": "code",
   "execution_count": 37,
   "metadata": {},
   "outputs": [
    {
     "name": "stdout",
     "output_type": "stream",
     "text": [
      "   col_1 col_2\n",
      "0      3     a\n",
      "1      2     b\n",
      "2      1     c\n",
      "3      0     d\n",
      "\n",
      "\n",
      "\n",
      "\n",
      "       0  1  2  3\n",
      "col_1  3  2  1  0\n",
      "col_2  a  b  c  d\n"
     ]
    }
   ],
   "source": [
    "# alternativement, la commande \"transpose\" peut être utilisée\n",
    "# qui est similaire à Microsoft Excel et LibreOffice calc\n",
    "\n",
    "df_d = pandas.DataFrame.from_dict(data)\n",
    "\n",
    "print(df_d)\n",
    "print(\"\\n\\n\\n\")\n",
    "print(df_d.transpose())"
   ]
  },
  {
   "cell_type": "code",
   "execution_count": 38,
   "metadata": {},
   "outputs": [
    {
     "name": "stdout",
     "output_type": "stream",
     "text": [
      "   col_1 col_2\n",
      "0      3     a\n",
      "1      2     b\n",
      "2      1     c\n",
      "3      0     d\n",
      "       0  1  2  3\n",
      "col_1  3  2  1  0\n",
      "col_2  a  b  c  d\n"
     ]
    }
   ],
   "source": [
    "df_d = pandas.DataFrame.from_dict(data)\n",
    "\n",
    "print(df_d)\n",
    "print(df_d.T)"
   ]
  },
  {
   "cell_type": "code",
   "execution_count": 39,
   "metadata": {
    "scrolled": false
   },
   "outputs": [
    {
     "data": {
      "text/html": [
       "<div>\n",
       "<style scoped>\n",
       "    .dataframe tbody tr th:only-of-type {\n",
       "        vertical-align: middle;\n",
       "    }\n",
       "\n",
       "    .dataframe tbody tr th {\n",
       "        vertical-align: top;\n",
       "    }\n",
       "\n",
       "    .dataframe thead th {\n",
       "        text-align: right;\n",
       "    }\n",
       "</style>\n",
       "<table border=\"1\" class=\"dataframe\">\n",
       "  <thead>\n",
       "    <tr style=\"text-align: right;\">\n",
       "      <th></th>\n",
       "      <th>A</th>\n",
       "      <th>B</th>\n",
       "      <th>C</th>\n",
       "      <th>D</th>\n",
       "    </tr>\n",
       "  </thead>\n",
       "  <tbody>\n",
       "    <tr>\n",
       "      <th>col_1</th>\n",
       "      <td>3</td>\n",
       "      <td>2</td>\n",
       "      <td>1</td>\n",
       "      <td>0</td>\n",
       "    </tr>\n",
       "    <tr>\n",
       "      <th>col_2</th>\n",
       "      <td>a</td>\n",
       "      <td>b</td>\n",
       "      <td>c</td>\n",
       "      <td>d</td>\n",
       "    </tr>\n",
       "  </tbody>\n",
       "</table>\n",
       "</div>"
      ],
      "text/plain": [
       "       A  B  C  D\n",
       "col_1  3  2  1  0\n",
       "col_2  a  b  c  d"
      ]
     },
     "execution_count": 39,
     "metadata": {},
     "output_type": "execute_result"
    }
   ],
   "source": [
    "# les noms des colonnes peuvent également\n",
    "# être définis à l'intérieur de la commande d'exécution\n",
    "\n",
    "df_d = pandas.DataFrame.from_dict(data, orient = 'index',\n",
    "                                 columns = ['A','B','C','D'])\n",
    "df_d\n",
    "\n",
    "# pour plus d'info:\n",
    "# https://pandas.pydata.org/docs/reference/api/pandas.DataFrame.html"
   ]
  },
  {
   "cell_type": "markdown",
   "metadata": {},
   "source": [
    "<div class=\"alert alert-warning\">\n",
    "\n",
    "<li>le dictionnaire et pandas DataFrame sont des structures 2D: multiple listes/ tuples 1D\n",
    "</div>"
   ]
  },
  {
   "cell_type": "markdown",
   "metadata": {},
   "source": [
    "<center><img src=\"img/numpy_5x5x1.png\"><center>"
   ]
  },
  {
   "cell_type": "markdown",
   "metadata": {},
   "source": [
    "<div class=\"alert alert-warning\">\n",
    "\n",
    "<li>les données 3D = multiple 2D sur plusieurs feuilles Excel\n",
    "</div>"
   ]
  },
  {
   "cell_type": "markdown",
   "metadata": {},
   "source": [
    "<center><img src=\"img/numpy_5x5x3.png\"><center>"
   ]
  },
  {
   "cell_type": "markdown",
   "metadata": {},
   "source": [
    "<div class=\"alert alert-warning\">\n",
    "\n",
    "<li>données 4D =<ul>\n",
    "    <li>1 dossier avec\n",
    "    <li>multiple fichiers Excel (3D)\n",
    "    <li>avec multiple feuilles (2D)</ul>\n",
    "</div>"
   ]
  },
  {
   "cell_type": "markdown",
   "metadata": {},
   "source": [
    "<div class=\"alert alert-warning\">\n",
    "\n",
    "<li>données 5D =<ul>\n",
    "    <li>multiple dossiers avec\n",
    "    <li>multiple fichiers Excel (3D)\n",
    "    <li>avec multiple feuilles (2D)</ul>\n",
    "</div>"
   ]
  },
  {
   "cell_type": "markdown",
   "metadata": {},
   "source": [
    "<div class=\"alert alert-warning\">\n",
    "Comment créer une structure 3/4/5D en python?</div>"
   ]
  },
  {
   "cell_type": "markdown",
   "metadata": {},
   "source": [
    "<div class=\"alert alert-success\">\n",
    "<h2>NumPy = Numerical Python</h2>\n",
    "</div>"
   ]
  },
  {
   "cell_type": "markdown",
   "metadata": {},
   "source": [
    "<div class=\"alert alert-success\">\n",
    "<b>pourquoi NumPy est-il nécessaire ?</b>\n",
    "<ul> \n",
    "    <li> Les variables en python sont flexibles, mais le coût est une manipulation moins efficace des données.\n",
    "    <li> numpy est de type fixe, ils manquent de flexibilité mais ils est beaucoup plus efficaces pour stocker et manipuler des données.</ul>\n",
    "\n",
    "<li> Auteur original Travis Oliphant, première version 1995, dernière 6 janvier 2020\n",
    "<li> Repository: ithub.com/numpy/numpy\n",
    "<li> Ref: https://www.nature.com/articles/s41586-020-2649-2</div>"
   ]
  },
  {
   "cell_type": "markdown",
   "metadata": {},
   "source": [
    "<div class=\"alert alert-success\">\n",
    "<ul> <b>Avantages contre MATLAB</b>\n",
    "    <li> Matlab fonctionne avec un grand nombre de boîtes à outils supplémentaires qui doivent être achetées. En Python, numpy est intégré ainsi qu'avec des packages python gratuits complémentaires comme SciPy \n",
    "    <li> MATLAB est un logiciel propriétaire à source fermée. Un code dans MATLAB, ne peut être utilisé que par des personnes qui peuvent se permettre une licence pour l'exécuter. Python est un logiciel gratuit et open-source. Non seulement vous pouvez télécharger Python gratuitement, mais vous pouvez également télécharger, consulter et modifier le code source. Le code Python pourrait être partagé et exécuté par tout lecteur intéressé.\n",
    "    <li> Le langage MATLAB est développé exclusivement par Mathworks. Si Mathworks devait cesser ses activités, MATLAB ne pourrait plus être développé et pourrait éventuellement cesser de fonctionner. Les parties sensibles aux performances de NumPy sont toutes écrites en langage C, donc elles sont <b>très rapides.</b></ul>\n",
    "    <p>\n",
    "<ul> <b>Limites</b>\n",
    "    <li> insérer / ajouter n'est pas aussi simple que pour les listes\n",
    "    <li> la concaténation ne lie pas les tableaux, mais en renvoie un nouveau\n",
    "    <li> le remodelage n'est possible que si le nombre d'éléments ne change pas. Un pack de remplacement Blaze tente de surmonter ce problème\n",
    "    <li> Les algorithmes qui ne sont pas exprimables en tant qu'opération vectorisée s'exécuteront généralement lentement, car ils sont implémentés en Python pur. Des compilations peuvent être utilisées pour éviter cela: scipy.weabe, numexpr, Numba, Cython</ul></div>"
   ]
  },
  {
   "cell_type": "markdown",
   "metadata": {},
   "source": [
    "<div class=\"alert alert-warning\">\n",
    "crée une structure numpy\n",
    "<li><b>principe fondamental de NumPy = tableaux multi-dimensionnels</b>\n",
    "    </div>"
   ]
  },
  {
   "cell_type": "markdown",
   "metadata": {},
   "source": [
    "<div class=\"alert alert-warning\">\n",
    "<li>np.array\n",
    "<li>np.empty\n",
    "<li>np.zeros\n",
    "<li>np.one\n",
    "<li>np.full\n",
    "<li>np.eye\n",
    "<li>np.repeat\n",
    "<li>np.linspace\n",
    "<li>np.arange\n",
    "<li>np.random\n",
    "<li>np.random.random\n",
    "<li>np.random.normal\n",
    "<li>np.random.randint\n",
    "</div>"
   ]
  },
  {
   "cell_type": "code",
   "execution_count": 40,
   "metadata": {},
   "outputs": [],
   "source": [
    "import numpy as np"
   ]
  },
  {
   "cell_type": "code",
   "execution_count": 41,
   "metadata": {},
   "outputs": [
    {
     "data": {
      "text/plain": [
       "array([1, 2, 3])"
      ]
     },
     "execution_count": 41,
     "metadata": {},
     "output_type": "execute_result"
    }
   ],
   "source": [
    "# Créer des tableaux de données\n",
    "# entier\n",
    "arr0 = np.array([1, 2, 3])\n",
    "arr0"
   ]
  },
  {
   "cell_type": "code",
   "execution_count": 42,
   "metadata": {},
   "outputs": [
    {
     "data": {
      "text/plain": [
       "(3,)"
      ]
     },
     "execution_count": 42,
     "metadata": {},
     "output_type": "execute_result"
    }
   ],
   "source": [
    "arr0.shape"
   ]
  },
  {
   "cell_type": "code",
   "execution_count": 43,
   "metadata": {},
   "outputs": [
    {
     "data": {
      "text/plain": [
       "array([1.1, 2.2, 3.3])"
      ]
     },
     "execution_count": 43,
     "metadata": {},
     "output_type": "execute_result"
    }
   ],
   "source": [
    "# flottante\n",
    "np.array([1.1, 2.2, 3.3]) # version 1"
   ]
  },
  {
   "cell_type": "code",
   "execution_count": 44,
   "metadata": {},
   "outputs": [
    {
     "data": {
      "text/plain": [
       "array([1., 2., 3., 4., 5.], dtype=float32)"
      ]
     },
     "execution_count": 44,
     "metadata": {},
     "output_type": "execute_result"
    }
   ],
   "source": [
    "# Les valeurs peuvent être spécifiées avec dtype:\n",
    "\n",
    "np.array([1,2,3,4,5], dtype='float32')  # version 2"
   ]
  },
  {
   "cell_type": "code",
   "execution_count": 45,
   "metadata": {},
   "outputs": [
    {
     "data": {
      "text/plain": [
       "array([[1, 2],\n",
       "       [3, 4]])"
      ]
     },
     "execution_count": 45,
     "metadata": {},
     "output_type": "execute_result"
    }
   ],
   "source": [
    "# multidimensionnel\n",
    "\n",
    "arr1 = np.array([[1, 2],\n",
    "                 [3, 4]])\n",
    "arr1"
   ]
  },
  {
   "cell_type": "code",
   "execution_count": 46,
   "metadata": {},
   "outputs": [
    {
     "data": {
      "text/plain": [
       "(2, 2)"
      ]
     },
     "execution_count": 46,
     "metadata": {},
     "output_type": "execute_result"
    }
   ],
   "source": [
    "arr1.shape"
   ]
  },
  {
   "cell_type": "code",
   "execution_count": 47,
   "metadata": {},
   "outputs": [
    {
     "data": {
      "text/plain": [
       "array([[5, 6],\n",
       "       [7, 8],\n",
       "       [3, 5]])"
      ]
     },
     "execution_count": 47,
     "metadata": {},
     "output_type": "execute_result"
    }
   ],
   "source": [
    "arr2 = np.array([[5, 6], [7, 8],[3, 5]])\n",
    "arr2"
   ]
  },
  {
   "cell_type": "code",
   "execution_count": 48,
   "metadata": {},
   "outputs": [
    {
     "data": {
      "text/plain": [
       "array([[ 4151192956528754769, -5067675480698650536,  4146689356901384305],\n",
       "       [-5067675480698650536,  4160889769476436884, -5070236902986717532],\n",
       "       [ 4146689356901384305, -5070236902986717532,  4149419664175477595]])"
      ]
     },
     "execution_count": 48,
     "metadata": {},
     "output_type": "execute_result"
    }
   ],
   "source": [
    "# créer des tableaux vides:\n",
    "# numpy.empty(shape, dtype, order)\n",
    "\n",
    "# shape (allure) = dimensions du tableaux\n",
    "# dtype = le typage attendu lors de son rendu (optionnel)\n",
    "# order (ordre) = pour un tableaux style C (C) ou FORTRAN (F)\n",
    "\n",
    "np.empty([3,3], dtype=int)"
   ]
  },
  {
   "cell_type": "code",
   "execution_count": 49,
   "metadata": {},
   "outputs": [
    {
     "data": {
      "text/plain": [
       "array([0, 0, 0, 0, 0, 0, 0, 0, 0, 0])"
      ]
     },
     "execution_count": 49,
     "metadata": {},
     "output_type": "execute_result"
    }
   ],
   "source": [
    "np.zeros(10, dtype=int)"
   ]
  },
  {
   "cell_type": "code",
   "execution_count": 50,
   "metadata": {},
   "outputs": [
    {
     "data": {
      "text/plain": [
       "array([0, 0, 0, 0, 0, 0, 0, 0, 0, 0], dtype=int16)"
      ]
     },
     "execution_count": 50,
     "metadata": {},
     "output_type": "execute_result"
    }
   ],
   "source": [
    "# Les valeurs peuvent être spécifiées avec dtype chaîne:\n",
    "\n",
    "np.zeros(10, dtype='int16')"
   ]
  },
  {
   "cell_type": "code",
   "execution_count": 51,
   "metadata": {},
   "outputs": [
    {
     "data": {
      "text/plain": [
       "array([0, 0, 0, 0, 0, 0, 0, 0, 0, 0], dtype=int16)"
      ]
     },
     "execution_count": 51,
     "metadata": {},
     "output_type": "execute_result"
    }
   ],
   "source": [
    "# ou avec dtype objet:\n",
    "\n",
    "np.zeros(10, dtype=np.int16)"
   ]
  },
  {
   "cell_type": "code",
   "execution_count": 52,
   "metadata": {},
   "outputs": [
    {
     "name": "stdout",
     "output_type": "stream",
     "text": [
      "[[1. 1.]\n",
      " [1. 1.]]\n"
     ]
    }
   ],
   "source": [
    "unes_tab = np.ones([2,2], dtype=float)\n",
    "print(unes_tab)"
   ]
  },
  {
   "cell_type": "code",
   "execution_count": 53,
   "metadata": {},
   "outputs": [
    {
     "data": {
      "text/plain": [
       "array([[3.14, 3.14, 3.14, 3.14, 3.14],\n",
       "       [3.14, 3.14, 3.14, 3.14, 3.14],\n",
       "       [3.14, 3.14, 3.14, 3.14, 3.14]])"
      ]
     },
     "execution_count": 53,
     "metadata": {},
     "output_type": "execute_result"
    }
   ],
   "source": [
    "# faire un tableau 3x5 avec 3,14\n",
    "\n",
    "np.full((3,5), 3.14)"
   ]
  },
  {
   "cell_type": "code",
   "execution_count": 54,
   "metadata": {},
   "outputs": [
    {
     "data": {
      "text/plain": [
       "array([[1., 0., 0.],\n",
       "       [0., 1., 0.],\n",
       "       [0., 0., 1.]])"
      ]
     },
     "execution_count": 54,
     "metadata": {},
     "output_type": "execute_result"
    }
   ],
   "source": [
    "# créer une matrice d'identité\n",
    "# avec de 1 par diagonale:\n",
    "\n",
    "np.eye(3)"
   ]
  },
  {
   "cell_type": "code",
   "execution_count": 55,
   "metadata": {},
   "outputs": [
    {
     "data": {
      "text/plain": [
       "array([1, 1, 1, 1, 1, 1, 1, 1, 1, 1])"
      ]
     },
     "execution_count": 55,
     "metadata": {},
     "output_type": "execute_result"
    }
   ],
   "source": [
    "# répéter\n",
    "\n",
    "np.repeat(1,10)"
   ]
  },
  {
   "cell_type": "code",
   "execution_count": 56,
   "metadata": {},
   "outputs": [
    {
     "data": {
      "text/plain": [
       "array([0.  , 0.25, 0.5 , 0.75, 1.  ])"
      ]
     },
     "execution_count": 56,
     "metadata": {},
     "output_type": "execute_result"
    }
   ],
   "source": [
    "# faire un tableau de 5 valeurs régulièrement espacées:\n",
    "np.linspace(0,1,5)"
   ]
  },
  {
   "cell_type": "code",
   "execution_count": 57,
   "metadata": {},
   "outputs": [
    {
     "data": {
      "text/plain": [
       "array([0, 1, 2, 3, 4, 5, 6, 7, 8, 9])"
      ]
     },
     "execution_count": 57,
     "metadata": {},
     "output_type": "execute_result"
    }
   ],
   "source": [
    "# trancher\n",
    "\n",
    "# x[début : arrêt : étape]\n",
    "# x[start : stop : step]\n",
    "\n",
    "x = np.arange(10)\n",
    "x"
   ]
  },
  {
   "cell_type": "code",
   "execution_count": 58,
   "metadata": {},
   "outputs": [
    {
     "data": {
      "text/plain": [
       "array([1, 2, 3, 4, 5, 6, 7, 8, 9])"
      ]
     },
     "execution_count": 58,
     "metadata": {},
     "output_type": "execute_result"
    }
   ],
   "source": [
    "# valeurs réparties équitablement\n",
    "# numpy.arange(start, stop ,step, dtype)\n",
    "\n",
    "np.arange(1,10)"
   ]
  },
  {
   "cell_type": "code",
   "execution_count": 59,
   "metadata": {},
   "outputs": [
    {
     "data": {
      "text/plain": [
       "array([1, 3, 5, 7, 9])"
      ]
     },
     "execution_count": 59,
     "metadata": {},
     "output_type": "execute_result"
    }
   ],
   "source": [
    "np.arange(1,10,2)"
   ]
  },
  {
   "cell_type": "code",
   "execution_count": 60,
   "metadata": {},
   "outputs": [
    {
     "data": {
      "text/plain": [
       "array([1, 4, 7])"
      ]
     },
     "execution_count": 60,
     "metadata": {},
     "output_type": "execute_result"
    }
   ],
   "source": [
    "np.arange(1,10,3)"
   ]
  },
  {
   "cell_type": "code",
   "execution_count": 61,
   "metadata": {},
   "outputs": [
    {
     "data": {
      "text/plain": [
       "array([1., 3., 5., 7., 9.])"
      ]
     },
     "execution_count": 61,
     "metadata": {},
     "output_type": "execute_result"
    }
   ],
   "source": [
    "np.arange(1,10,2,float)"
   ]
  },
  {
   "cell_type": "code",
   "execution_count": 62,
   "metadata": {},
   "outputs": [
    {
     "data": {
      "text/plain": [
       "array([[0.19712603, 0.23871951, 0.79767091],\n",
       "       [0.44678515, 0.88186695, 0.54679157],\n",
       "       [0.86761684, 0.46066041, 0.34466736]])"
      ]
     },
     "execution_count": 62,
     "metadata": {},
     "output_type": "execute_result"
    }
   ],
   "source": [
    "# random\n",
    "# valeurs aléatoires uniformément réparties:\n",
    "\n",
    "x2 = np.random.random((3,3))\n",
    "x2"
   ]
  },
  {
   "cell_type": "code",
   "execution_count": 63,
   "metadata": {},
   "outputs": [
    {
     "data": {
      "text/plain": [
       "array([[-1.41960316,  3.56824288, -0.84074958],\n",
       "       [-0.3035835 , -0.06303084,  0.31303249],\n",
       "       [ 1.12718532, -0.8771621 ,  0.64669627]])"
      ]
     },
     "execution_count": 63,
     "metadata": {},
     "output_type": "execute_result"
    }
   ],
   "source": [
    "# aléatoire normalement distribué avec moyenne 0 et std 1:\n",
    "np.random.normal(0,1, (3,3))"
   ]
  },
  {
   "cell_type": "code",
   "execution_count": 64,
   "metadata": {},
   "outputs": [
    {
     "data": {
      "text/plain": [
       "array([[6, 6, 8],\n",
       "       [6, 7, 9],\n",
       "       [2, 4, 6]])"
      ]
     },
     "execution_count": 64,
     "metadata": {},
     "output_type": "execute_result"
    }
   ],
   "source": [
    "# random entiers:\n",
    "np.random.randint(0,10,(3,3))"
   ]
  },
  {
   "cell_type": "markdown",
   "metadata": {},
   "source": [
    "<div class=\"alert alert-danger\">\n",
    "<b>les commandes et codes à apprendre par cœur </b></div>"
   ]
  },
  {
   "cell_type": "raw",
   "metadata": {},
   "source": [
    "STRINGS:\n",
    "    str()\n",
    "    ''\n",
    "    \"\"\n",
    "\n",
    "INTEGER / FLOAT\n",
    "    int()\n",
    "    float()\n",
    "\n",
    "LIST:\n",
    "    []\n",
    "    list()\n",
    "\n",
    "TUPLE:\n",
    "    ()\n",
    "    tuple()\n",
    "\n",
    "DICTIONARY:\n",
    "    dict()\n",
    "    {}\n",
    "    d[key]\n",
    "    d[key] = val\n",
    "    d.keys()\n",
    "    d.values()\n",
    "    d.items()\n",
    "    list(d.keys())\n",
    "\n",
    "PANDAS:\n",
    "    import pandas\n",
    "    pandas.DataFrame(source, index=[])\n",
    "    pandas.DataFrame.from_dict(dict(),\n",
    "                                orient = 'index',\n",
    "                                columns = ['A','B','C','D'])\n",
    "    pandas.read_csv(fichier,\n",
    "                    usecols = ['COL1', 'COL2'])\n",
    "    df.keys()\n",
    "    df.values()\n",
    "    df.col.tolist()\n",
    "    df.to_dict()\n",
    "    df.transpose(), df.T\n",
    "    df.index\n",
    "    df.size\n",
    "    df.shape\n",
    "    df.ndim\n",
    "    df.dtype\n",
    "    df.head()\n",
    "    df.tail()\n",
    "    read_csv, read_excel, read_table, read_json,\n",
    "    df.to_csv, to_excel, to_json, to_pickle\n",
    "    df.columns\n",
    "    df.index\n",
    "    df.COLUMN_NAME\n",
    "    df[\"COLUMN_NAME\"]\n",
    "    df['COLUMN_NAME']\n",
    "    \n",
    "NUMPY:\n",
    "    np.array(, dtype='float32')\n",
    "    numpy.asarray(list(), dtype = None)\n",
    "    numpy.asarray(list(dict().items()), dtype = dict)\n",
    "    arr0.shape\n",
    "    arr0.ndim\n",
    "    np.empty(shape, dtype=int)\n",
    "    np.zeros(shape, dtype=int)\n",
    "    np.ones(shape, dtype=float) #shape = [int(), int()]; int()\n",
    "    np.full()\n",
    "    np.eye()\n",
    "    np.repeat\n",
    "    np.linspace\n",
    "    np.arange\n",
    "    np.random; np.random.random; np.random.normal; np.random.randint\n",
    "    np.where\n",
    "\n",
    "INDEXATION []\n",
    "    chaine.index()\n",
    "    list.index()\n",
    "    tuple.index()\n",
    "\n",
    "PseudoCode langage humain\n",
    "PseudoCode format python"
   ]
  },
  {
   "cell_type": "markdown",
   "metadata": {},
   "source": [
    "<div class=\"alert alert-danger\">\n",
    "<h3>Exercises</h3>\n",
    "</div>"
   ]
  },
  {
   "cell_type": "markdown",
   "metadata": {},
   "source": [
    "<div class=\"alert alert-success\">\n",
    "<ul> <b>veuillez écrire les réponses à ces questions:</b>\n",
    "<li> Qu'est-ce qu'un entier ?\n",
    "<li> Qu'est-ce qu'une chaîne ?\n",
    "<li> Quelle est la différence entre un entier et une flottant?\n",
    "<li> Qu'est-ce qu'une liste ?\n",
    "<li> Quels sont les avantages d'un tuple ?\n",
    "<li> Comment transformer une colonne pandas en liste ?\n",
    "<li> Comment extraire la valeur de la liste située en position 10 ?\n",
    "<li> Quelles sont les méthodes pour définir les variables ?\n",
    "<li> Comment vérifier le type d'une variable ?\n",
    "<li> Comment ajouter une variable à un tuple ?\n",
    "<li> Comment envoyer toutes les valeurs d'une trame de données à une liste ?\n",
    "<li> Comment créer une trame de données à partir d'une liste ?\n",
    "<li> Comment accéder à une lettre dans une chaîne à une certaine position ?\n",
    "<li> Comment définir plusieurs variables en même temps ?\n",
    "<li> Définir une flottante\n",
    "<li> Initialisez deux entiers : a = 0 et b = 10 \n",
    "<li> Créer la liste : liste =[17, 38, 10, 25, 72]\n",
    "<li> Inversez et affichez la liste\n",
    "<li> Affichez l’indice de l’élément 17\n",
    "<li> Affichez la sous-liste du 2e au 3e élément\n",
    "<li> Affichez la sous-liste du début au 2e élément\n",
    "<li> Affichez la sous-liste du 3e élément à la fin de la liste \n",
    "<li> Affichez la sous-liste complète de la liste\n",
    "<li> Affichez le dernier élément en utilisant un indiçage négatif\n",
    "<li>Créez un tableau numpy 1D de int de 0 à 9\n",
    "    </ul>\n",
    "</div>"
   ]
  },
  {
   "cell_type": "markdown",
   "metadata": {},
   "source": [
    "<div class=\"alert alert-success\">\n",
    "<li> Créer une liste\n",
    "<li> ajouter une chaîne, un entier et un flottant à la liste\n",
    "<li> ajouter la liste à 'key5' dans le dictionnaire\n",
    "<li> temps pour résoudre - 2 minutes </div>"
   ]
  },
  {
   "cell_type": "markdown",
   "metadata": {},
   "source": [
    "<div class=\"alert alert-success\">\n",
    "<li> créer une trame de données à l'aide du dictionnaire:\n",
    "<li> d1 = {'Subj_ID': '001', 'score': 16, 'group' : 2, 'condition': 'cognition'}\n",
    "<li> résoudre l'erreur en utilisant l'Internet\n",
    "<li> temps pour résoudre - 2 minutes\n",
    "</div>"
   ]
  },
  {
   "cell_type": "markdown",
   "metadata": {},
   "source": [
    "<div class=\"alert alert-success\">\n",
    "<li> la commande ls_fruits[::2] qu'est ce que ça fait ?\n",
    "</div>"
   ]
  },
  {
   "cell_type": "code",
   "execution_count": 65,
   "metadata": {},
   "outputs": [
    {
     "data": {
      "text/plain": [
       "['pomme', 'poire']"
      ]
     },
     "execution_count": 65,
     "metadata": {},
     "output_type": "execute_result"
    }
   ],
   "source": [
    "ls_fruits = ['pomme','banane','orange','poire','raisins']\n",
    "ls_fruits[::3]"
   ]
  },
  {
   "cell_type": "code",
   "execution_count": 66,
   "metadata": {},
   "outputs": [
    {
     "data": {
      "text/plain": [
       "array([ 0,  1,  2,  3,  4,  5,  6,  7,  8,  9, 10, 11, 12, 13, 14, 15, 16,\n",
       "       17, 18, 19, 20, 21, 22, 23, 24, 25])"
      ]
     },
     "execution_count": 66,
     "metadata": {},
     "output_type": "execute_result"
    }
   ],
   "source": [
    "# Créez un cadre de données de pandas\n",
    "# à partir de chacun des éléments ci-dessous:\n",
    "\n",
    "list('abcedfghijklmnopqrstuvwxyz')\n",
    "\n",
    "np.arange(26)"
   ]
  },
  {
   "cell_type": "code",
   "execution_count": null,
   "metadata": {},
   "outputs": [],
   "source": []
  },
  {
   "cell_type": "code",
   "execution_count": null,
   "metadata": {},
   "outputs": [],
   "source": []
  }
 ],
 "metadata": {
  "anaconda-cloud": {},
  "celltoolbar": "Slideshow",
  "kernelspec": {
   "display_name": "Python 3 (ipykernel)",
   "language": "python",
   "name": "python3"
  },
  "language_info": {
   "codemirror_mode": {
    "name": "ipython",
    "version": 3
   },
   "file_extension": ".py",
   "mimetype": "text/x-python",
   "name": "python",
   "nbconvert_exporter": "python",
   "pygments_lexer": "ipython3",
   "version": "3.9.13"
  }
 },
 "nbformat": 4,
 "nbformat_minor": 2
}
