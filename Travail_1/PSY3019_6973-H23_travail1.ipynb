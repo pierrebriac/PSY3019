{
 "cells": [
  {
   "cell_type": "markdown",
   "metadata": {},
   "source": [
    "<div class=\"alert alert-danger\">\n",
    "\n",
    "# PSY 3019/6973-G-H23\n",
    "# Cueillette et traitement des données en neurosciences cognitives\n",
    "## Travail 1:\n",
    "<li>Manipulation de données.\n",
    "<li>la chaîne, l’entier, la flottante, la liste, le tuple, le dictionnaire\n",
    "<li>pandas.DataFrame\n",
    "<li>numpy\n",
    "<li>indexation\n",
    "<li>combinaison de données. Pandas \"groupby\""
   ]
  },
  {
   "cell_type": "markdown",
   "metadata": {},
   "source": [
    "<div class=\"alert alert-info\">\n",
    "<ul><b>ATTENTION</b>\n",
    "    <li>il est important que le code fonctionne\n",
    "    <li>il est important que la tâche demandée soit prèsente\n",
    "    <li>la structure et la beauté du code est importantes</div>"
   ]
  },
  {
   "cell_type": "code",
   "execution_count": 1,
   "metadata": {},
   "outputs": [],
   "source": [
    "import pandas as pd\n",
    "import numpy\n",
    "import csv"
   ]
  },
  {
   "cell_type": "markdown",
   "metadata": {},
   "source": [
    "Nom: METAYER -- MARIOTTI Pierrebriac"
   ]
  },
  {
   "cell_type": "markdown",
   "metadata": {},
   "source": [
    "<div class=\"alert alert-danger\">\n",
    "<ol start=1><li>pandas.DataFrame (poids = 0.5)\n",
    "    <ul>\n",
    "    <li>création dataframe\n",
    "</ul></ol></div>"
   ]
  },
  {
   "cell_type": "code",
   "execution_count": 2,
   "metadata": {},
   "outputs": [],
   "source": [
    "# créer un pandas DataFrame\n",
    "\n",
    "data_vide = pd.DataFrame()"
   ]
  },
  {
   "cell_type": "code",
   "execution_count": 3,
   "metadata": {},
   "outputs": [
    {
     "data": {
      "text/html": [
       "<div>\n",
       "<style scoped>\n",
       "    .dataframe tbody tr th:only-of-type {\n",
       "        vertical-align: middle;\n",
       "    }\n",
       "\n",
       "    .dataframe tbody tr th {\n",
       "        vertical-align: top;\n",
       "    }\n",
       "\n",
       "    .dataframe thead th {\n",
       "        text-align: right;\n",
       "    }\n",
       "</style>\n",
       "<table border=\"1\" class=\"dataframe\">\n",
       "  <thead>\n",
       "    <tr style=\"text-align: right;\">\n",
       "      <th></th>\n",
       "      <th>Entity</th>\n",
       "      <th>Code</th>\n",
       "      <th>Year</th>\n",
       "      <th>civ_libs_vdem_owid</th>\n",
       "      <th>region</th>\n",
       "    </tr>\n",
       "  </thead>\n",
       "  <tbody>\n",
       "    <tr>\n",
       "      <th>0</th>\n",
       "      <td>Afghanistan</td>\n",
       "      <td>AFG</td>\n",
       "      <td>1789</td>\n",
       "      <td>0.122</td>\n",
       "      <td>Asia</td>\n",
       "    </tr>\n",
       "    <tr>\n",
       "      <th>1</th>\n",
       "      <td>Afghanistan</td>\n",
       "      <td>AFG</td>\n",
       "      <td>1790</td>\n",
       "      <td>0.122</td>\n",
       "      <td>Asia</td>\n",
       "    </tr>\n",
       "    <tr>\n",
       "      <th>2</th>\n",
       "      <td>Afghanistan</td>\n",
       "      <td>AFG</td>\n",
       "      <td>1791</td>\n",
       "      <td>0.122</td>\n",
       "      <td>Asia</td>\n",
       "    </tr>\n",
       "    <tr>\n",
       "      <th>3</th>\n",
       "      <td>Afghanistan</td>\n",
       "      <td>AFG</td>\n",
       "      <td>1792</td>\n",
       "      <td>0.122</td>\n",
       "      <td>Asia</td>\n",
       "    </tr>\n",
       "    <tr>\n",
       "      <th>4</th>\n",
       "      <td>Afghanistan</td>\n",
       "      <td>AFG</td>\n",
       "      <td>1793</td>\n",
       "      <td>0.122</td>\n",
       "      <td>Asia</td>\n",
       "    </tr>\n",
       "    <tr>\n",
       "      <th>...</th>\n",
       "      <td>...</td>\n",
       "      <td>...</td>\n",
       "      <td>...</td>\n",
       "      <td>...</td>\n",
       "      <td>...</td>\n",
       "    </tr>\n",
       "    <tr>\n",
       "      <th>33621</th>\n",
       "      <td>Zimbabwe</td>\n",
       "      <td>ZWE</td>\n",
       "      <td>2017</td>\n",
       "      <td>0.434</td>\n",
       "      <td>Africa</td>\n",
       "    </tr>\n",
       "    <tr>\n",
       "      <th>33622</th>\n",
       "      <td>Zimbabwe</td>\n",
       "      <td>ZWE</td>\n",
       "      <td>2018</td>\n",
       "      <td>0.428</td>\n",
       "      <td>Africa</td>\n",
       "    </tr>\n",
       "    <tr>\n",
       "      <th>33623</th>\n",
       "      <td>Zimbabwe</td>\n",
       "      <td>ZWE</td>\n",
       "      <td>2019</td>\n",
       "      <td>0.391</td>\n",
       "      <td>Africa</td>\n",
       "    </tr>\n",
       "    <tr>\n",
       "      <th>33624</th>\n",
       "      <td>Zimbabwe</td>\n",
       "      <td>ZWE</td>\n",
       "      <td>2020</td>\n",
       "      <td>0.399</td>\n",
       "      <td>Africa</td>\n",
       "    </tr>\n",
       "    <tr>\n",
       "      <th>33625</th>\n",
       "      <td>Zimbabwe</td>\n",
       "      <td>ZWE</td>\n",
       "      <td>2021</td>\n",
       "      <td>0.360</td>\n",
       "      <td>Africa</td>\n",
       "    </tr>\n",
       "  </tbody>\n",
       "</table>\n",
       "<p>33626 rows × 5 columns</p>\n",
       "</div>"
      ],
      "text/plain": [
       "            Entity Code  Year  civ_libs_vdem_owid  region\n",
       "0      Afghanistan  AFG  1789               0.122    Asia\n",
       "1      Afghanistan  AFG  1790               0.122    Asia\n",
       "2      Afghanistan  AFG  1791               0.122    Asia\n",
       "3      Afghanistan  AFG  1792               0.122    Asia\n",
       "4      Afghanistan  AFG  1793               0.122    Asia\n",
       "...            ...  ...   ...                 ...     ...\n",
       "33621     Zimbabwe  ZWE  2017               0.434  Africa\n",
       "33622     Zimbabwe  ZWE  2018               0.428  Africa\n",
       "33623     Zimbabwe  ZWE  2019               0.391  Africa\n",
       "33624     Zimbabwe  ZWE  2020               0.399  Africa\n",
       "33625     Zimbabwe  ZWE  2021               0.360  Africa\n",
       "\n",
       "[33626 rows x 5 columns]"
      ]
     },
     "execution_count": 3,
     "metadata": {},
     "output_type": "execute_result"
    }
   ],
   "source": [
    "# Importer mon data frame\n",
    "\n",
    "# Charger le fichier CSV existant\n",
    "data = pd.read_csv(\"PierreBriacMétayerMariotti_données_psy3019-H23_20220211_distribution-human-rights-vdem.csv\")\n",
    "data"
   ]
  },
  {
   "cell_type": "markdown",
   "metadata": {},
   "source": [
    "<div class=\"alert alert-danger\">\n",
    "<ol start=2><li>pseudocode (poids = 1)\n",
    "<ul><li>pseudocode\n",
    "</ul></ol></div>"
   ]
  },
  {
   "cell_type": "markdown",
   "metadata": {},
   "source": [
    "<div class=\"alert alert-info\">\n",
    "<ul><b>Travail 1:</b>\n",
    "    \n",
    "\n",
    "<li>dataframe créé (0.5 %)\n",
    "<li>pseudocode définie (1%)\n",
    "<li>indexation utilisée (2 %)\n",
    "<li>combinaison des données (2 %)\n",
    "<li>Numpy code implémenté (2%)\n",
    "<li>« groupby » est utilisé (2.5 %)\n",
    "<li>remise en fichier .ipynb sur GitHub, le plus tard à 23h59 du jour prévu.\n",
    "<li>Chaque jour après le temps alloué coûte 0.25%.\n"
   ]
  },
  {
   "cell_type": "markdown",
   "metadata": {},
   "source": [
    "On va dans un premier temps importer notre data frame puis l'enregistrer dans un data frame.\n",
    "Ensuite on va travailler sur l'indexation. On va montrer plusieurs techniques d'indexation. On s'en servira par la suite.\n",
    "\n",
    "Ensuite on va créer deux tableaux et on va les rassembler pour en faire qu'un seul.\n",
    "\n",
    "On va ensuite transformer le tableau en format numpy et faire quelques calculs dessus.\n",
    "\n",
    "Pour finir on va réunir les données d'un tableau autour des ventes (on va créer un tableau avec les ventes d'un produit chaque mois).\n",
    "\n",
    "En bonus on montrera comment utiliser group by pour réaliser des graphiques avec le data frame qu'on a importé."
   ]
  },
  {
   "cell_type": "markdown",
   "metadata": {},
   "source": [
    "<div class=\"alert alert-danger\">\n",
    "<ol start=3><li>indexation (poids = 2)\n",
    "    <ul><li>utilisation d'indexation\n",
    "</ul></ol></div>"
   ]
  },
  {
   "cell_type": "code",
   "execution_count": 4,
   "metadata": {},
   "outputs": [
    {
     "data": {
      "text/plain": [
       "RangeIndex(start=0, stop=33626, step=1)"
      ]
     },
     "execution_count": 4,
     "metadata": {},
     "output_type": "execute_result"
    }
   ],
   "source": [
    "# Donner le nombre d'index\n",
    "data.index"
   ]
  },
  {
   "cell_type": "code",
   "execution_count": 5,
   "metadata": {},
   "outputs": [
    {
     "data": {
      "text/plain": [
       "Index(['Entity', 'Code', 'Year', 'civ_libs_vdem_owid', 'region'], dtype='object')"
      ]
     },
     "execution_count": 5,
     "metadata": {},
     "output_type": "execute_result"
    }
   ],
   "source": [
    "#Donne le noms des colonnes\n",
    "data.columns"
   ]
  },
  {
   "cell_type": "code",
   "execution_count": 6,
   "metadata": {},
   "outputs": [
    {
     "data": {
      "text/plain": [
       "1791"
      ]
     },
     "execution_count": 6,
     "metadata": {},
     "output_type": "execute_result"
    }
   ],
   "source": [
    "# La troisième valeur de la colonne \"Year\" (index 2)\n",
    "Val1 = data.loc[2, 'Year']\n",
    "Val1"
   ]
  },
  {
   "cell_type": "code",
   "execution_count": 7,
   "metadata": {},
   "outputs": [
    {
     "data": {
      "text/html": [
       "<div>\n",
       "<style scoped>\n",
       "    .dataframe tbody tr th:only-of-type {\n",
       "        vertical-align: middle;\n",
       "    }\n",
       "\n",
       "    .dataframe tbody tr th {\n",
       "        vertical-align: top;\n",
       "    }\n",
       "\n",
       "    .dataframe thead th {\n",
       "        text-align: right;\n",
       "    }\n",
       "</style>\n",
       "<table border=\"1\" class=\"dataframe\">\n",
       "  <thead>\n",
       "    <tr style=\"text-align: right;\">\n",
       "      <th></th>\n",
       "      <th>Entity</th>\n",
       "      <th>Code</th>\n",
       "      <th>Year</th>\n",
       "      <th>civ_libs_vdem_owid</th>\n",
       "      <th>region</th>\n",
       "    </tr>\n",
       "  </thead>\n",
       "  <tbody>\n",
       "    <tr>\n",
       "      <th>3</th>\n",
       "      <td>Afghanistan</td>\n",
       "      <td>AFG</td>\n",
       "      <td>1792</td>\n",
       "      <td>0.122</td>\n",
       "      <td>Asia</td>\n",
       "    </tr>\n",
       "    <tr>\n",
       "      <th>4</th>\n",
       "      <td>Afghanistan</td>\n",
       "      <td>AFG</td>\n",
       "      <td>1793</td>\n",
       "      <td>0.122</td>\n",
       "      <td>Asia</td>\n",
       "    </tr>\n",
       "    <tr>\n",
       "      <th>5</th>\n",
       "      <td>Afghanistan</td>\n",
       "      <td>AFG</td>\n",
       "      <td>1794</td>\n",
       "      <td>0.122</td>\n",
       "      <td>Asia</td>\n",
       "    </tr>\n",
       "  </tbody>\n",
       "</table>\n",
       "</div>"
      ],
      "text/plain": [
       "        Entity Code  Year  civ_libs_vdem_owid region\n",
       "3  Afghanistan  AFG  1792               0.122   Asia\n",
       "4  Afghanistan  AFG  1793               0.122   Asia\n",
       "5  Afghanistan  AFG  1794               0.122   Asia"
      ]
     },
     "execution_count": 7,
     "metadata": {},
     "output_type": "execute_result"
    }
   ],
   "source": [
    "#Donne du troisième au cinquième index\n",
    "Val2 = data.loc[3:5]\n",
    "Val2"
   ]
  },
  {
   "cell_type": "code",
   "execution_count": 8,
   "metadata": {},
   "outputs": [
    {
     "data": {
      "text/plain": [
       "3    1792\n",
       "4    1793\n",
       "5    1794\n",
       "Name: Year, dtype: int64"
      ]
     },
     "execution_count": 8,
     "metadata": {},
     "output_type": "execute_result"
    }
   ],
   "source": [
    "# Donne du troisième au cinquième index de la colonne \"Year\" \n",
    "Val3 = data.loc[3:5, 'Year']\n",
    "Val3"
   ]
  },
  {
   "cell_type": "code",
   "execution_count": 9,
   "metadata": {},
   "outputs": [
    {
     "data": {
      "text/plain": [
       "3    1792\n",
       "4    1793\n",
       "5    1794\n",
       "Name: Year, dtype: int64"
      ]
     },
     "execution_count": 9,
     "metadata": {},
     "output_type": "execute_result"
    }
   ],
   "source": [
    "# Autre technique faisant la même chose qu'au dessus\n",
    "data[\"Year\"][3:6]"
   ]
  },
  {
   "cell_type": "code",
   "execution_count": 10,
   "metadata": {},
   "outputs": [
    {
     "data": {
      "text/html": [
       "<div>\n",
       "<style scoped>\n",
       "    .dataframe tbody tr th:only-of-type {\n",
       "        vertical-align: middle;\n",
       "    }\n",
       "\n",
       "    .dataframe tbody tr th {\n",
       "        vertical-align: top;\n",
       "    }\n",
       "\n",
       "    .dataframe thead th {\n",
       "        text-align: right;\n",
       "    }\n",
       "</style>\n",
       "<table border=\"1\" class=\"dataframe\">\n",
       "  <thead>\n",
       "    <tr style=\"text-align: right;\">\n",
       "      <th></th>\n",
       "      <th>Entity</th>\n",
       "      <th>Code</th>\n",
       "      <th>Year</th>\n",
       "      <th>civ_libs_vdem_owid</th>\n",
       "      <th>region</th>\n",
       "    </tr>\n",
       "  </thead>\n",
       "  <tbody>\n",
       "    <tr>\n",
       "      <th>0</th>\n",
       "      <td>Afghanistan</td>\n",
       "      <td>AFG</td>\n",
       "      <td>1789</td>\n",
       "      <td>0.122</td>\n",
       "      <td>Asia</td>\n",
       "    </tr>\n",
       "    <tr>\n",
       "      <th>1</th>\n",
       "      <td>Afghanistan</td>\n",
       "      <td>AFG</td>\n",
       "      <td>1790</td>\n",
       "      <td>0.122</td>\n",
       "      <td>Asia</td>\n",
       "    </tr>\n",
       "    <tr>\n",
       "      <th>2</th>\n",
       "      <td>Afghanistan</td>\n",
       "      <td>AFG</td>\n",
       "      <td>1791</td>\n",
       "      <td>0.122</td>\n",
       "      <td>Asia</td>\n",
       "    </tr>\n",
       "    <tr>\n",
       "      <th>3</th>\n",
       "      <td>Afghanistan</td>\n",
       "      <td>AFG</td>\n",
       "      <td>1792</td>\n",
       "      <td>0.122</td>\n",
       "      <td>Asia</td>\n",
       "    </tr>\n",
       "    <tr>\n",
       "      <th>4</th>\n",
       "      <td>Afghanistan</td>\n",
       "      <td>AFG</td>\n",
       "      <td>1793</td>\n",
       "      <td>0.122</td>\n",
       "      <td>Asia</td>\n",
       "    </tr>\n",
       "    <tr>\n",
       "      <th>5</th>\n",
       "      <td>Afghanistan</td>\n",
       "      <td>AFG</td>\n",
       "      <td>1794</td>\n",
       "      <td>0.122</td>\n",
       "      <td>Asia</td>\n",
       "    </tr>\n",
       "    <tr>\n",
       "      <th>6</th>\n",
       "      <td>Afghanistan</td>\n",
       "      <td>AFG</td>\n",
       "      <td>1795</td>\n",
       "      <td>0.122</td>\n",
       "      <td>Asia</td>\n",
       "    </tr>\n",
       "    <tr>\n",
       "      <th>7</th>\n",
       "      <td>Afghanistan</td>\n",
       "      <td>AFG</td>\n",
       "      <td>1796</td>\n",
       "      <td>0.122</td>\n",
       "      <td>Asia</td>\n",
       "    </tr>\n",
       "    <tr>\n",
       "      <th>8</th>\n",
       "      <td>Afghanistan</td>\n",
       "      <td>AFG</td>\n",
       "      <td>1797</td>\n",
       "      <td>0.122</td>\n",
       "      <td>Asia</td>\n",
       "    </tr>\n",
       "    <tr>\n",
       "      <th>9</th>\n",
       "      <td>Afghanistan</td>\n",
       "      <td>AFG</td>\n",
       "      <td>1798</td>\n",
       "      <td>0.122</td>\n",
       "      <td>Asia</td>\n",
       "    </tr>\n",
       "  </tbody>\n",
       "</table>\n",
       "</div>"
      ],
      "text/plain": [
       "        Entity Code  Year  civ_libs_vdem_owid region\n",
       "0  Afghanistan  AFG  1789               0.122   Asia\n",
       "1  Afghanistan  AFG  1790               0.122   Asia\n",
       "2  Afghanistan  AFG  1791               0.122   Asia\n",
       "3  Afghanistan  AFG  1792               0.122   Asia\n",
       "4  Afghanistan  AFG  1793               0.122   Asia\n",
       "5  Afghanistan  AFG  1794               0.122   Asia\n",
       "6  Afghanistan  AFG  1795               0.122   Asia\n",
       "7  Afghanistan  AFG  1796               0.122   Asia\n",
       "8  Afghanistan  AFG  1797               0.122   Asia\n",
       "9  Afghanistan  AFG  1798               0.122   Asia"
      ]
     },
     "execution_count": 10,
     "metadata": {},
     "output_type": "execute_result"
    }
   ],
   "source": [
    "# Affiche les 10 premières lignes\n",
    "\n",
    "data.head(10)"
   ]
  },
  {
   "cell_type": "code",
   "execution_count": 11,
   "metadata": {},
   "outputs": [
    {
     "data": {
      "text/plain": [
       "0    Afghanistan\n",
       "1    Afghanistan\n",
       "2    Afghanistan\n",
       "3    Afghanistan\n",
       "4    Afghanistan\n",
       "5    Afghanistan\n",
       "6    Afghanistan\n",
       "7    Afghanistan\n",
       "8    Afghanistan\n",
       "9    Afghanistan\n",
       "Name: Entity, dtype: object"
      ]
     },
     "execution_count": 11,
     "metadata": {},
     "output_type": "execute_result"
    }
   ],
   "source": [
    "# Affiche les 10 premières lignes de la colonne \"Entity\"\n",
    "data.Entity.head(10)"
   ]
  },
  {
   "cell_type": "markdown",
   "metadata": {},
   "source": [
    "<div class=\"alert alert-danger\">\n",
    "<ol start=4><li>combinaison (poids = 2)\n",
    "    <ul><li>combinaison des données\n",
    "</ul></ol></div>"
   ]
  },
  {
   "cell_type": "code",
   "execution_count": 12,
   "metadata": {},
   "outputs": [],
   "source": [
    "# On construit des data frames imaginaires\n",
    "Vente_1 = pd.DataFrame({'produit': ['A', 'A', 'B', 'B', 'C', 'C'],\n",
    "        'mois': ['janvier', 'février', 'janvier', 'février', 'janvier', 'février'],\n",
    "        'ventes': [120, 50, 250, 500, 15, 105]})\n",
    "\n",
    "Vente_2 = pd.DataFrame({'produit': ['A', 'A', 'B', 'B', 'C', 'C'],\n",
    "        'mois': ['mars', 'avril', 'mars', 'avril', 'mars', 'avril'],\n",
    "        'ventes': [130, 150, 175, 200, 75, 125]})"
   ]
  },
  {
   "cell_type": "code",
   "execution_count": 13,
   "metadata": {},
   "outputs": [
    {
     "name": "stderr",
     "output_type": "stream",
     "text": [
      "/var/folders/1t/m_ny6jj121304b52s3qrp6dm0000gn/T/ipykernel_42950/3875431999.py:2: FutureWarning: The frame.append method is deprecated and will be removed from pandas in a future version. Use pandas.concat instead.\n",
      "  Vente_totale = Vente_1.append(Vente_2)\n"
     ]
    },
    {
     "data": {
      "text/html": [
       "<div>\n",
       "<style scoped>\n",
       "    .dataframe tbody tr th:only-of-type {\n",
       "        vertical-align: middle;\n",
       "    }\n",
       "\n",
       "    .dataframe tbody tr th {\n",
       "        vertical-align: top;\n",
       "    }\n",
       "\n",
       "    .dataframe thead th {\n",
       "        text-align: right;\n",
       "    }\n",
       "</style>\n",
       "<table border=\"1\" class=\"dataframe\">\n",
       "  <thead>\n",
       "    <tr style=\"text-align: right;\">\n",
       "      <th></th>\n",
       "      <th>produit</th>\n",
       "      <th>mois</th>\n",
       "      <th>ventes</th>\n",
       "    </tr>\n",
       "  </thead>\n",
       "  <tbody>\n",
       "    <tr>\n",
       "      <th>0</th>\n",
       "      <td>A</td>\n",
       "      <td>janvier</td>\n",
       "      <td>120</td>\n",
       "    </tr>\n",
       "    <tr>\n",
       "      <th>1</th>\n",
       "      <td>A</td>\n",
       "      <td>février</td>\n",
       "      <td>50</td>\n",
       "    </tr>\n",
       "    <tr>\n",
       "      <th>2</th>\n",
       "      <td>B</td>\n",
       "      <td>janvier</td>\n",
       "      <td>250</td>\n",
       "    </tr>\n",
       "    <tr>\n",
       "      <th>3</th>\n",
       "      <td>B</td>\n",
       "      <td>février</td>\n",
       "      <td>500</td>\n",
       "    </tr>\n",
       "    <tr>\n",
       "      <th>4</th>\n",
       "      <td>C</td>\n",
       "      <td>janvier</td>\n",
       "      <td>15</td>\n",
       "    </tr>\n",
       "    <tr>\n",
       "      <th>5</th>\n",
       "      <td>C</td>\n",
       "      <td>février</td>\n",
       "      <td>105</td>\n",
       "    </tr>\n",
       "    <tr>\n",
       "      <th>0</th>\n",
       "      <td>A</td>\n",
       "      <td>mars</td>\n",
       "      <td>130</td>\n",
       "    </tr>\n",
       "    <tr>\n",
       "      <th>1</th>\n",
       "      <td>A</td>\n",
       "      <td>avril</td>\n",
       "      <td>150</td>\n",
       "    </tr>\n",
       "    <tr>\n",
       "      <th>2</th>\n",
       "      <td>B</td>\n",
       "      <td>mars</td>\n",
       "      <td>175</td>\n",
       "    </tr>\n",
       "    <tr>\n",
       "      <th>3</th>\n",
       "      <td>B</td>\n",
       "      <td>avril</td>\n",
       "      <td>200</td>\n",
       "    </tr>\n",
       "    <tr>\n",
       "      <th>4</th>\n",
       "      <td>C</td>\n",
       "      <td>mars</td>\n",
       "      <td>75</td>\n",
       "    </tr>\n",
       "    <tr>\n",
       "      <th>5</th>\n",
       "      <td>C</td>\n",
       "      <td>avril</td>\n",
       "      <td>125</td>\n",
       "    </tr>\n",
       "  </tbody>\n",
       "</table>\n",
       "</div>"
      ],
      "text/plain": [
       "  produit     mois  ventes\n",
       "0       A  janvier     120\n",
       "1       A  février      50\n",
       "2       B  janvier     250\n",
       "3       B  février     500\n",
       "4       C  janvier      15\n",
       "5       C  février     105\n",
       "0       A     mars     130\n",
       "1       A    avril     150\n",
       "2       B     mars     175\n",
       "3       B    avril     200\n",
       "4       C     mars      75\n",
       "5       C    avril     125"
      ]
     },
     "execution_count": 13,
     "metadata": {},
     "output_type": "execute_result"
    }
   ],
   "source": [
    "#On combine les deux data frame\n",
    "Vente_totale = Vente_1.append(Vente_2)\n",
    "Vente_totale"
   ]
  },
  {
   "cell_type": "code",
   "execution_count": 14,
   "metadata": {},
   "outputs": [
    {
     "data": {
      "text/html": [
       "<div>\n",
       "<style scoped>\n",
       "    .dataframe tbody tr th:only-of-type {\n",
       "        vertical-align: middle;\n",
       "    }\n",
       "\n",
       "    .dataframe tbody tr th {\n",
       "        vertical-align: top;\n",
       "    }\n",
       "\n",
       "    .dataframe thead th {\n",
       "        text-align: right;\n",
       "    }\n",
       "</style>\n",
       "<table border=\"1\" class=\"dataframe\">\n",
       "  <thead>\n",
       "    <tr style=\"text-align: right;\">\n",
       "      <th></th>\n",
       "      <th>produit</th>\n",
       "      <th>mois</th>\n",
       "      <th>ventes</th>\n",
       "    </tr>\n",
       "  </thead>\n",
       "  <tbody>\n",
       "    <tr>\n",
       "      <th>0</th>\n",
       "      <td>A</td>\n",
       "      <td>janvier</td>\n",
       "      <td>120</td>\n",
       "    </tr>\n",
       "    <tr>\n",
       "      <th>1</th>\n",
       "      <td>A</td>\n",
       "      <td>février</td>\n",
       "      <td>50</td>\n",
       "    </tr>\n",
       "    <tr>\n",
       "      <th>2</th>\n",
       "      <td>B</td>\n",
       "      <td>janvier</td>\n",
       "      <td>250</td>\n",
       "    </tr>\n",
       "    <tr>\n",
       "      <th>3</th>\n",
       "      <td>B</td>\n",
       "      <td>février</td>\n",
       "      <td>500</td>\n",
       "    </tr>\n",
       "    <tr>\n",
       "      <th>4</th>\n",
       "      <td>C</td>\n",
       "      <td>janvier</td>\n",
       "      <td>15</td>\n",
       "    </tr>\n",
       "    <tr>\n",
       "      <th>5</th>\n",
       "      <td>C</td>\n",
       "      <td>février</td>\n",
       "      <td>105</td>\n",
       "    </tr>\n",
       "    <tr>\n",
       "      <th>0</th>\n",
       "      <td>A</td>\n",
       "      <td>mars</td>\n",
       "      <td>130</td>\n",
       "    </tr>\n",
       "    <tr>\n",
       "      <th>1</th>\n",
       "      <td>A</td>\n",
       "      <td>avril</td>\n",
       "      <td>150</td>\n",
       "    </tr>\n",
       "    <tr>\n",
       "      <th>2</th>\n",
       "      <td>B</td>\n",
       "      <td>mars</td>\n",
       "      <td>175</td>\n",
       "    </tr>\n",
       "    <tr>\n",
       "      <th>3</th>\n",
       "      <td>B</td>\n",
       "      <td>avril</td>\n",
       "      <td>200</td>\n",
       "    </tr>\n",
       "    <tr>\n",
       "      <th>4</th>\n",
       "      <td>C</td>\n",
       "      <td>mars</td>\n",
       "      <td>75</td>\n",
       "    </tr>\n",
       "    <tr>\n",
       "      <th>5</th>\n",
       "      <td>C</td>\n",
       "      <td>avril</td>\n",
       "      <td>125</td>\n",
       "    </tr>\n",
       "  </tbody>\n",
       "</table>\n",
       "</div>"
      ],
      "text/plain": [
       "  produit     mois  ventes\n",
       "0       A  janvier     120\n",
       "1       A  février      50\n",
       "2       B  janvier     250\n",
       "3       B  février     500\n",
       "4       C  janvier      15\n",
       "5       C  février     105\n",
       "0       A     mars     130\n",
       "1       A    avril     150\n",
       "2       B     mars     175\n",
       "3       B    avril     200\n",
       "4       C     mars      75\n",
       "5       C    avril     125"
      ]
     },
     "execution_count": 14,
     "metadata": {},
     "output_type": "execute_result"
    }
   ],
   "source": [
    "# Une autre technique\n",
    "\n",
    "Vente_totale2 = pd.concat([Vente_1, Vente_2], axis=0) # les DataFrames seront concaténés en ligne avec axis = 0\n",
    "Vente_totale2"
   ]
  },
  {
   "cell_type": "markdown",
   "metadata": {},
   "source": [
    "<div class=\"alert alert-danger\">\n",
    "<ol start=5>\n",
    "    <li>numpy (poids = 2)\n",
    "    <ul>\n",
    "    <li> implementation du code Numpy\n",
    "</ul></ol></div>"
   ]
  },
  {
   "cell_type": "code",
   "execution_count": 15,
   "metadata": {},
   "outputs": [
    {
     "name": "stdout",
     "output_type": "stream",
     "text": [
      "<class 'numpy.ndarray'>\n"
     ]
    }
   ],
   "source": [
    "# Transformation du tableau Vente_totale en tableau numpy\n",
    "\n",
    "import numpy as np\n",
    "\n",
    "Vente_totale_np = Vente_totale.values\n",
    "\n",
    "print(type(Vente_totale_np))\n"
   ]
  },
  {
   "cell_type": "code",
   "execution_count": 16,
   "metadata": {},
   "outputs": [
    {
     "data": {
      "text/plain": [
       "array([['A', 'janvier', 120],\n",
       "       ['A', 'février', 50],\n",
       "       ['B', 'janvier', 250],\n",
       "       ['B', 'février', 500],\n",
       "       ['C', 'janvier', 15],\n",
       "       ['C', 'février', 105],\n",
       "       ['A', 'mars', 130],\n",
       "       ['A', 'avril', 150],\n",
       "       ['B', 'mars', 175],\n",
       "       ['B', 'avril', 200],\n",
       "       ['C', 'mars', 75],\n",
       "       ['C', 'avril', 125]], dtype=object)"
      ]
     },
     "execution_count": 16,
     "metadata": {},
     "output_type": "execute_result"
    }
   ],
   "source": [
    "Vente_totale_np"
   ]
  },
  {
   "cell_type": "code",
   "execution_count": 17,
   "metadata": {},
   "outputs": [
    {
     "data": {
      "text/plain": [
       "1895"
      ]
     },
     "execution_count": 17,
     "metadata": {},
     "output_type": "execute_result"
    }
   ],
   "source": [
    "# Calcul de la somme des ventes\n",
    "total_ventes = np.sum(Vente_totale_np[:, 2])\n",
    "total_ventes"
   ]
  },
  {
   "cell_type": "code",
   "execution_count": 18,
   "metadata": {},
   "outputs": [
    {
     "data": {
      "text/plain": [
       "157.91666666666666"
      ]
     },
     "execution_count": 18,
     "metadata": {},
     "output_type": "execute_result"
    }
   ],
   "source": [
    "# Moyenne de toutes les valeurs\n",
    "moyennes_ventes = np.mean(Vente_totale_np[:, 2])\n",
    "moyennes_ventes"
   ]
  },
  {
   "cell_type": "code",
   "execution_count": 19,
   "metadata": {},
   "outputs": [
    {
     "name": "stdout",
     "output_type": "stream",
     "text": [
      "15\n",
      "500\n"
     ]
    }
   ],
   "source": [
    "# Calculer le minimum et le maximum de toutes les valeurs\n",
    "min_ventes = np.min(Vente_totale_np[:, 2])\n",
    "max_ventes = np.max(Vente_totale_np[:, 2])\n",
    "print(min_ventes)\n",
    "print(max_ventes)"
   ]
  },
  {
   "cell_type": "code",
   "execution_count": 20,
   "metadata": {},
   "outputs": [
    {
     "name": "stdout",
     "output_type": "stream",
     "text": [
      "[15 50 75 105 120 125 130 150 175 200 250 500]\n",
      "[500 250 200 175 150 130 125 120 105 75 50 15]\n"
     ]
    }
   ],
   "source": [
    "# Trier les valeurs dans l'ordre croissant ou décroissant\n",
    "\n",
    "ventes_sorted_ascending = np.sort(Vente_totale_np[:, 2])\n",
    "ventes_sorted_descending = np.sort(Vente_totale_np[:, 2])[::-1]\n",
    "print(ventes_sorted_ascending)\n",
    "print(ventes_sorted_descending)"
   ]
  },
  {
   "cell_type": "code",
   "execution_count": 21,
   "metadata": {},
   "outputs": [
    {
     "data": {
      "text/plain": [
       "471925"
      ]
     },
     "execution_count": 21,
     "metadata": {},
     "output_type": "execute_result"
    }
   ],
   "source": [
    "# Produit matriciel entre la colonne des ventes du tableau Vente_totale_np et sa transposée\n",
    "\n",
    "matrix_product = np.dot(Vente_totale_np[:, 2], Vente_totale_np[:, 2].T)\n",
    "matrix_product"
   ]
  },
  {
   "cell_type": "code",
   "execution_count": 22,
   "metadata": {},
   "outputs": [
    {
     "name": "stdout",
     "output_type": "stream",
     "text": [
      "Ecart type\n",
      "125.2898155429558\n",
      "Correlation\n",
      "2.73305744241883\n"
     ]
    }
   ],
   "source": [
    "std = np.std(Vente_totale_np[:, 2], ddof=1)\n",
    "correlation = matrix_product / (Vente_totale_np.shape[0] - 1) / (std * std)\n",
    "print(\"Ecart type\")\n",
    "print(std)\n",
    "print(\"Correlation\")\n",
    "print(correlation)"
   ]
  },
  {
   "cell_type": "markdown",
   "metadata": {},
   "source": [
    "<div class=\"alert alert-danger\">\n",
    "<ol start=6><li>groupby (poids = 2.5)\n",
    "        <ul><li> utilisation du « pandas.DataFrame.groupby</ul></ol></div>"
   ]
  },
  {
   "cell_type": "code",
   "execution_count": 23,
   "metadata": {},
   "outputs": [
    {
     "data": {
      "text/html": [
       "<div>\n",
       "<style scoped>\n",
       "    .dataframe tbody tr th:only-of-type {\n",
       "        vertical-align: middle;\n",
       "    }\n",
       "\n",
       "    .dataframe tbody tr th {\n",
       "        vertical-align: top;\n",
       "    }\n",
       "\n",
       "    .dataframe thead th {\n",
       "        text-align: right;\n",
       "    }\n",
       "</style>\n",
       "<table border=\"1\" class=\"dataframe\">\n",
       "  <thead>\n",
       "    <tr style=\"text-align: right;\">\n",
       "      <th></th>\n",
       "      <th>produit</th>\n",
       "      <th>mois</th>\n",
       "      <th>ventes</th>\n",
       "    </tr>\n",
       "  </thead>\n",
       "  <tbody>\n",
       "    <tr>\n",
       "      <th>0</th>\n",
       "      <td>A</td>\n",
       "      <td>janvier</td>\n",
       "      <td>120</td>\n",
       "    </tr>\n",
       "    <tr>\n",
       "      <th>1</th>\n",
       "      <td>A</td>\n",
       "      <td>février</td>\n",
       "      <td>50</td>\n",
       "    </tr>\n",
       "    <tr>\n",
       "      <th>2</th>\n",
       "      <td>B</td>\n",
       "      <td>janvier</td>\n",
       "      <td>250</td>\n",
       "    </tr>\n",
       "    <tr>\n",
       "      <th>3</th>\n",
       "      <td>B</td>\n",
       "      <td>février</td>\n",
       "      <td>500</td>\n",
       "    </tr>\n",
       "    <tr>\n",
       "      <th>4</th>\n",
       "      <td>C</td>\n",
       "      <td>janvier</td>\n",
       "      <td>15</td>\n",
       "    </tr>\n",
       "    <tr>\n",
       "      <th>5</th>\n",
       "      <td>C</td>\n",
       "      <td>février</td>\n",
       "      <td>105</td>\n",
       "    </tr>\n",
       "    <tr>\n",
       "      <th>0</th>\n",
       "      <td>A</td>\n",
       "      <td>mars</td>\n",
       "      <td>130</td>\n",
       "    </tr>\n",
       "    <tr>\n",
       "      <th>1</th>\n",
       "      <td>A</td>\n",
       "      <td>avril</td>\n",
       "      <td>150</td>\n",
       "    </tr>\n",
       "    <tr>\n",
       "      <th>2</th>\n",
       "      <td>B</td>\n",
       "      <td>mars</td>\n",
       "      <td>175</td>\n",
       "    </tr>\n",
       "    <tr>\n",
       "      <th>3</th>\n",
       "      <td>B</td>\n",
       "      <td>avril</td>\n",
       "      <td>200</td>\n",
       "    </tr>\n",
       "    <tr>\n",
       "      <th>4</th>\n",
       "      <td>C</td>\n",
       "      <td>mars</td>\n",
       "      <td>75</td>\n",
       "    </tr>\n",
       "    <tr>\n",
       "      <th>5</th>\n",
       "      <td>C</td>\n",
       "      <td>avril</td>\n",
       "      <td>125</td>\n",
       "    </tr>\n",
       "  </tbody>\n",
       "</table>\n",
       "</div>"
      ],
      "text/plain": [
       "  produit     mois  ventes\n",
       "0       A  janvier     120\n",
       "1       A  février      50\n",
       "2       B  janvier     250\n",
       "3       B  février     500\n",
       "4       C  janvier      15\n",
       "5       C  février     105\n",
       "0       A     mars     130\n",
       "1       A    avril     150\n",
       "2       B     mars     175\n",
       "3       B    avril     200\n",
       "4       C     mars      75\n",
       "5       C    avril     125"
      ]
     },
     "execution_count": 23,
     "metadata": {},
     "output_type": "execute_result"
    }
   ],
   "source": [
    "Vente_totale"
   ]
  },
  {
   "cell_type": "code",
   "execution_count": 24,
   "metadata": {},
   "outputs": [
    {
     "name": "stdout",
     "output_type": "stream",
     "text": [
      "produit\n",
      "A     450\n",
      "B    1125\n",
      "C     320\n",
      "Name: ventes, dtype: int64\n"
     ]
    }
   ],
   "source": [
    "# Regroupement des données par produit\n",
    "grouped = Vente_totale.groupby('produit')\n",
    "# Affichage des ventes totales pour chaque produit\n",
    "print(grouped['ventes'].sum())"
   ]
  },
  {
   "cell_type": "code",
   "execution_count": 25,
   "metadata": {},
   "outputs": [
    {
     "name": "stdout",
     "output_type": "stream",
     "text": [
      "mois\n",
      "avril      475\n",
      "février    655\n",
      "janvier    385\n",
      "mars       380\n",
      "Name: ventes, dtype: int64\n"
     ]
    }
   ],
   "source": [
    "# Regroupement des données par mois\n",
    "grouped1 = Vente_totale.groupby('mois')\n",
    "\n",
    "# Affichage des ventes totales pour chaque mois\n",
    "print(grouped1['ventes'].sum())"
   ]
  },
  {
   "cell_type": "markdown",
   "metadata": {},
   "source": [
    "<div class=\"alert alert-danger\">\n",
    "Graphique des ventes bonus\n"
   ]
  },
  {
   "cell_type": "code",
   "execution_count": 26,
   "metadata": {},
   "outputs": [],
   "source": [
    "# Regroupe les données\n",
    "grouped_graph = Vente_totale.groupby([\"produit\",\"mois\"]).sum().reset_index()"
   ]
  },
  {
   "cell_type": "code",
   "execution_count": 27,
   "metadata": {},
   "outputs": [],
   "source": [
    "# Mettre les mois en colonnes\n",
    "grouped_graph = grouped_graph.pivot(index='produit', columns='mois', values='ventes')"
   ]
  },
  {
   "cell_type": "code",
   "execution_count": 28,
   "metadata": {},
   "outputs": [
    {
     "data": {
      "image/png": "[encoded data removed]",
      "text/plain": [
       "<Figure size 640x480 with 1 Axes>"
      ]
     },
     "metadata": {},
     "output_type": "display_data"
    }
   ],
   "source": [
    "# Afficher le graphique des ventes\n",
    "import matplotlib.pyplot as plt\n",
    "grouped_graph.plot(kind='line')\n",
    "plt.title(\"Evolution des ventes par mois et produit\")\n",
    "plt.xlabel(\"Produit\")\n",
    "plt.ylabel(\"Ventes\")\n",
    "plt.legend(loc='best')\n",
    "plt.show()\n"
   ]
  },
  {
   "cell_type": "code",
   "execution_count": 29,
   "metadata": {},
   "outputs": [],
   "source": [
    "df_grouped = data.groupby(['region', 'Year'], as_index=False).mean()"
   ]
  },
  {
   "cell_type": "code",
   "execution_count": 30,
   "metadata": {},
   "outputs": [
    {
     "data": {
      "image/png": "[encoded data removed]",
      "text/plain": [
       "<Figure size 640x480 with 1 Axes>"
      ]
     },
     "metadata": {},
     "output_type": "display_data"
    }
   ],
   "source": [
    "# graphique du niveau de liberté dans chaque continent entre 1789 et 2021\n",
    "\n",
    "\n",
    "for region, group in df_grouped.groupby('region'):\n",
    "    plt.plot(group['Year'], group['civ_libs_vdem_owid'], label=region)\n",
    "\n",
    "plt.legend()\n",
    "plt.xlabel('Year')\n",
    "plt.ylabel('civ_libs_vdem_owid')\n",
    "plt.show()\n"
   ]
  }
 ],
 "metadata": {
  "anaconda-cloud": {},
  "celltoolbar": "Slideshow",
  "kernelspec": {
   "display_name": "Python 3 (ipykernel)",
   "language": "python",
   "name": "python3"
  },
  "language_info": {
   "codemirror_mode": {
    "name": "ipython",
    "version": 3
   },
   "file_extension": ".py",
   "mimetype": "text/x-python",
   "name": "python",
   "nbconvert_exporter": "python",
   "pygments_lexer": "ipython3",
   "version": "3.9.13"
  }
 },
 "nbformat": 4,
 "nbformat_minor": 2
}
