{
 "cells": [
  {
   "cell_type": "code",
   "execution_count": 22,
   "id": "4b1d0ac6",
   "metadata": {},
   "outputs": [],
   "source": [
    "# Importation des librairies\n",
    "import csv\n",
    "import pandas as pd\n",
    "import matplotlib.pyplot as plt\n",
    "\n",
    "import sqlite3\n",
    "import statsmodels.api as sm\n",
    "import scipy.stats as stats\n",
    "import seaborn as sns\n",
    "from sklearn.model_selection import train_test_split, cross_val_score\n",
    "from sklearn.linear_model import LinearRegression\n",
    "from sklearn.cluster import KMeans"
   ]
  },
  {
   "cell_type": "code",
   "execution_count": 23,
   "id": "0f5d38ff",
   "metadata": {},
   "outputs": [],
   "source": [
    "# Charger le fichier CSV existant\n",
    "df = pd.read_csv(\"Donnees_libertes.csv\")"
   ]
  },
  {
   "cell_type": "code",
   "execution_count": 33,
   "id": "6ba653b2",
   "metadata": {},
   "outputs": [],
   "source": [
    "# Statistiques descriptives\n",
    "describe = df.describe()\n",
    "# Enregistrer le tableau dans un fichier CSV\n",
    "describe.to_csv(\"fichier_statistiques.csv\")"
   ]
  },
  {
   "cell_type": "code",
   "execution_count": 34,
   "id": "d5e4c3bb",
   "metadata": {},
   "outputs": [
    {
     "data": {
      "text/plain": [
       "Index(['Indice_liberte_expression', 'Indice_participation_electorale',\n",
       "       'Indice_independance_medias', 'Indice_separation_pouvoirs',\n",
       "       'Indice_lutte_corruption', 'Indice_protection_droits_minorites',\n",
       "       'Indice_respect_liberte_presse', 'Indice_liberte_association',\n",
       "       'Indice_liberte_reunion', 'Indice_liberte_religion',\n",
       "       'Indice_acces_information', 'Indice_liberte_education',\n",
       "       'Indice_justice_impartiale', 'Indice_elections_libres',\n",
       "       'Indice_protection_droits_hommes', 'Indice_lutte_discrimination',\n",
       "       'Indice_gouvernance_ouverte', 'Indice_protection_vie_privee',\n",
       "       'Indice_liberte_internet', 'Indice_redevabilite_gouvernementale',\n",
       "       'Indice_moyen', 'Indice_satisfaction', 'Niveau_stress',\n",
       "       'Indicateur_sante_mentale', 'Niveau_activite_physique',\n",
       "       'Indice_connexion_sociale', 'Moyenne_bien_etre', 'Heureux_ou_non',\n",
       "       'Cluster'],\n",
       "      dtype='object')"
      ]
     },
     "execution_count": 34,
     "metadata": {},
     "output_type": "execute_result"
    }
   ],
   "source": [
    "df.columns"
   ]
  },
  {
   "cell_type": "code",
   "execution_count": 35,
   "id": "09f6189e",
   "metadata": {},
   "outputs": [],
   "source": [
    "# Définition d'une classe pour gérer la base de données SQLite\n",
    "class SQLiteHandler:\n",
    "    def __init__(self, db_path):\n",
    "        self.conn = sqlite3.connect(db_path)\n",
    "        self.cursor = self.conn.cursor()\n",
    "\n",
    "    def execute_query(self, query):\n",
    "        try:\n",
    "            self.cursor.execute(query)\n",
    "            self.conn.commit()\n",
    "            return True\n",
    "        except sqlite3.Error:\n",
    "            return False\n",
    "\n",
    "    def close_connection(self):\n",
    "        self.conn.close()"
   ]
  },
  {
   "cell_type": "code",
   "execution_count": 36,
   "id": "32d2c86f",
   "metadata": {},
   "outputs": [
    {
     "name": "stdout",
     "output_type": "stream",
     "text": [
      "Score de prédiction de satisfaction: 0.6254804793341638\n"
     ]
    }
   ],
   "source": [
    "# Fonctions anonymes pour effectuer des transformations sur les colonnes\n",
    "df['Heureux_ou_non'] = df['Heureux_ou_non'].apply(lambda x: 1 if x == 'Oui' else 0)\n",
    "df['Moyenne_bien_etre'] = df[['Niveau_stress', 'Indicateur_sante_mentale']].mean(axis=1)\n",
    "\n",
    "# Vérification des valeurs manquantes\n",
    "if df.isnull().values.any():\n",
    "    print(\"Le DataFrame contient des valeurs manquantes.\")\n",
    "\n",
    "# Algorithme d'automatisation pour prédire la satisfaction\n",
    "X = df.drop('Indice_satisfaction', axis=1)\n",
    "y = df['Indice_satisfaction']\n",
    "X_train, X_test, y_train, y_test = train_test_split(X, y, test_size=0.2)\n",
    "model = LinearRegression()\n",
    "model.fit(X_train, y_train)\n",
    "score = model.score(X_test, y_test)\n",
    "print(\"Score de prédiction de satisfaction:\", score)"
   ]
  },
  {
   "cell_type": "code",
   "execution_count": 37,
   "id": "dcafc655",
   "metadata": {},
   "outputs": [
    {
     "name": "stderr",
     "output_type": "stream",
     "text": [
      "/Users/pierre-briacmetayer/opt/anaconda3/lib/python3.9/site-packages/scipy/stats/morestats.py:1760: UserWarning: p-value may not be accurate for N > 5000.\n",
      "  warnings.warn(\"p-value may not be accurate for N > 5000.\")\n",
      "/Users/pierre-briacmetayer/opt/anaconda3/lib/python3.9/site-packages/scipy/stats/morestats.py:1757: UserWarning: Input data for shapiro has range zero. The results may not be accurate.\n",
      "  warnings.warn(\"Input data for shapiro has range zero. The results \"\n"
     ]
    },
    {
     "data": {
      "image/png": "[encoded data removed]",
      "text/plain": [
       "<Figure size 640x480 with 1 Axes>"
      ]
     },
     "metadata": {},
     "output_type": "display_data"
    },
    {
     "name": "stdout",
     "output_type": "stream",
     "text": [
      "Score de validation croisée: 0.6111139055997951\n"
     ]
    }
   ],
   "source": [
    "# Tests de normalité\n",
    "shapiro_results = []\n",
    "for col in df.columns:\n",
    "    shapiro_results.append(stats.shapiro(df[col])[1])\n",
    "sns.barplot(x=df.columns, y=shapiro_results)\n",
    "plt.title('p-values des tests de normalité')\n",
    "plt.show()\n",
    "\n",
    "# Validation croisée pour évaluer la performance du modèle\n",
    "scores = cross_val_score(model, X, y, cv=5)\n",
    "print(\"Score de validation croisée:\", scores.mean())"
   ]
  },
  {
   "cell_type": "code",
   "execution_count": 38,
   "id": "7320c4df",
   "metadata": {},
   "outputs": [
    {
     "name": "stdout",
     "output_type": "stream",
     "text": [
      "Score de prédiction de satisfaction avec le pipeline: 0.6250631467476245\n",
      "Le score de prédiction de satisfaction est 0.63.\n"
     ]
    }
   ],
   "source": [
    "# Clustering non-supervisé pour regrouper les individus similaires\n",
    "kmeans = KMeans(n_clusters=3)\n",
    "kmeans.fit(X)\n",
    "df['Cluster'] = kmeans.labels_\n",
    "\n",
    "# Pipeline pour le traitement des données\n",
    "from sklearn.pipeline import Pipeline\n",
    "from sklearn.preprocessing import StandardScaler\n",
    "\n",
    "pipeline = Pipeline([\n",
    "    ('scaling', StandardScaler()),\n",
    "    ('regression', LinearRegression())\n",
    "])\n",
    "pipeline.fit(X_train, y_train)\n",
    "score = pipeline.score(X_test, y_test)\n",
    "print(\"Score de prédiction de satisfaction avec le pipeline:\", score)\n",
    "\n",
    "# Formatage des chaînes de caractères pour l'affichage des résultats\n",
    "print(f\"Le score de prédiction de satisfaction est {score:.2f}.\")"
   ]
  },
  {
   "cell_type": "code",
   "execution_count": null,
   "id": "e4ab74db",
   "metadata": {},
   "outputs": [],
   "source": []
  }
 ],
 "metadata": {
  "kernelspec": {
   "display_name": "Python 3 (ipykernel)",
   "language": "python",
   "name": "python3"
  },
  "language_info": {
   "codemirror_mode": {
    "name": "ipython",
    "version": 3
   },
   "file_extension": ".py",
   "mimetype": "text/x-python",
   "name": "python",
   "nbconvert_exporter": "python",
   "pygments_lexer": "ipython3",
   "version": "3.9.13"
  }
 },
 "nbformat": 4,
 "nbformat_minor": 5
}
